{
  "nbformat": 4,
  "nbformat_minor": 0,
  "metadata": {
    "colab": {
      "provenance": [],
      "gpuType": "V28"
    },
    "kernelspec": {
      "name": "python3",
      "display_name": "Python 3"
    },
    "language_info": {
      "name": "python"
    },
    "accelerator": "TPU",
    "widgets": {
      "application/vnd.jupyter.widget-state+json": {
        "8f7a328407fd42b6a49f718f960ba524": {
          "model_module": "@jupyter-widgets/controls",
          "model_name": "HBoxModel",
          "model_module_version": "1.5.0",
          "state": {
            "_dom_classes": [],
            "_model_module": "@jupyter-widgets/controls",
            "_model_module_version": "1.5.0",
            "_model_name": "HBoxModel",
            "_view_count": null,
            "_view_module": "@jupyter-widgets/controls",
            "_view_module_version": "1.5.0",
            "_view_name": "HBoxView",
            "box_style": "",
            "children": [
              "IPY_MODEL_60586f91ca4747d19959f615efb1cb48",
              "IPY_MODEL_df69ae190c56438b85698b10633bc650",
              "IPY_MODEL_f38050bf4ed445bfb3e679020fa33644"
            ],
            "layout": "IPY_MODEL_5f01fb45319242ef81db592c863aa17a"
          }
        },
        "60586f91ca4747d19959f615efb1cb48": {
          "model_module": "@jupyter-widgets/controls",
          "model_name": "HTMLModel",
          "model_module_version": "1.5.0",
          "state": {
            "_dom_classes": [],
            "_model_module": "@jupyter-widgets/controls",
            "_model_module_version": "1.5.0",
            "_model_name": "HTMLModel",
            "_view_count": null,
            "_view_module": "@jupyter-widgets/controls",
            "_view_module_version": "1.5.0",
            "_view_name": "HTMLView",
            "description": "",
            "description_tooltip": null,
            "layout": "IPY_MODEL_a355fb6bb77b4f6b8b2464b98901e8dc",
            "placeholder": "​",
            "style": "IPY_MODEL_132e4ea0706841798e0134cb64945cac",
            "value": "100%"
          }
        },
        "df69ae190c56438b85698b10633bc650": {
          "model_module": "@jupyter-widgets/controls",
          "model_name": "FloatProgressModel",
          "model_module_version": "1.5.0",
          "state": {
            "_dom_classes": [],
            "_model_module": "@jupyter-widgets/controls",
            "_model_module_version": "1.5.0",
            "_model_name": "FloatProgressModel",
            "_view_count": null,
            "_view_module": "@jupyter-widgets/controls",
            "_view_module_version": "1.5.0",
            "_view_name": "ProgressView",
            "bar_style": "success",
            "description": "",
            "description_tooltip": null,
            "layout": "IPY_MODEL_ac030287823b491db98d722a0c5939f6",
            "max": 20,
            "min": 0,
            "orientation": "horizontal",
            "style": "IPY_MODEL_89680d58dc5448f18e45df24a862490f",
            "value": 20
          }
        },
        "f38050bf4ed445bfb3e679020fa33644": {
          "model_module": "@jupyter-widgets/controls",
          "model_name": "HTMLModel",
          "model_module_version": "1.5.0",
          "state": {
            "_dom_classes": [],
            "_model_module": "@jupyter-widgets/controls",
            "_model_module_version": "1.5.0",
            "_model_name": "HTMLModel",
            "_view_count": null,
            "_view_module": "@jupyter-widgets/controls",
            "_view_module_version": "1.5.0",
            "_view_name": "HTMLView",
            "description": "",
            "description_tooltip": null,
            "layout": "IPY_MODEL_40dc393a63b344a6b6bdaac8864e8dd2",
            "placeholder": "​",
            "style": "IPY_MODEL_4d8678264624450ebe08c720b0f9e74e",
            "value": " 20/20 [00:34&lt;00:00,  1.59s/it]"
          }
        },
        "5f01fb45319242ef81db592c863aa17a": {
          "model_module": "@jupyter-widgets/base",
          "model_name": "LayoutModel",
          "model_module_version": "1.2.0",
          "state": {
            "_model_module": "@jupyter-widgets/base",
            "_model_module_version": "1.2.0",
            "_model_name": "LayoutModel",
            "_view_count": null,
            "_view_module": "@jupyter-widgets/base",
            "_view_module_version": "1.2.0",
            "_view_name": "LayoutView",
            "align_content": null,
            "align_items": null,
            "align_self": null,
            "border": null,
            "bottom": null,
            "display": null,
            "flex": null,
            "flex_flow": null,
            "grid_area": null,
            "grid_auto_columns": null,
            "grid_auto_flow": null,
            "grid_auto_rows": null,
            "grid_column": null,
            "grid_gap": null,
            "grid_row": null,
            "grid_template_areas": null,
            "grid_template_columns": null,
            "grid_template_rows": null,
            "height": null,
            "justify_content": null,
            "justify_items": null,
            "left": null,
            "margin": null,
            "max_height": null,
            "max_width": null,
            "min_height": null,
            "min_width": null,
            "object_fit": null,
            "object_position": null,
            "order": null,
            "overflow": null,
            "overflow_x": null,
            "overflow_y": null,
            "padding": null,
            "right": null,
            "top": null,
            "visibility": null,
            "width": null
          }
        },
        "a355fb6bb77b4f6b8b2464b98901e8dc": {
          "model_module": "@jupyter-widgets/base",
          "model_name": "LayoutModel",
          "model_module_version": "1.2.0",
          "state": {
            "_model_module": "@jupyter-widgets/base",
            "_model_module_version": "1.2.0",
            "_model_name": "LayoutModel",
            "_view_count": null,
            "_view_module": "@jupyter-widgets/base",
            "_view_module_version": "1.2.0",
            "_view_name": "LayoutView",
            "align_content": null,
            "align_items": null,
            "align_self": null,
            "border": null,
            "bottom": null,
            "display": null,
            "flex": null,
            "flex_flow": null,
            "grid_area": null,
            "grid_auto_columns": null,
            "grid_auto_flow": null,
            "grid_auto_rows": null,
            "grid_column": null,
            "grid_gap": null,
            "grid_row": null,
            "grid_template_areas": null,
            "grid_template_columns": null,
            "grid_template_rows": null,
            "height": null,
            "justify_content": null,
            "justify_items": null,
            "left": null,
            "margin": null,
            "max_height": null,
            "max_width": null,
            "min_height": null,
            "min_width": null,
            "object_fit": null,
            "object_position": null,
            "order": null,
            "overflow": null,
            "overflow_x": null,
            "overflow_y": null,
            "padding": null,
            "right": null,
            "top": null,
            "visibility": null,
            "width": null
          }
        },
        "132e4ea0706841798e0134cb64945cac": {
          "model_module": "@jupyter-widgets/controls",
          "model_name": "DescriptionStyleModel",
          "model_module_version": "1.5.0",
          "state": {
            "_model_module": "@jupyter-widgets/controls",
            "_model_module_version": "1.5.0",
            "_model_name": "DescriptionStyleModel",
            "_view_count": null,
            "_view_module": "@jupyter-widgets/base",
            "_view_module_version": "1.2.0",
            "_view_name": "StyleView",
            "description_width": ""
          }
        },
        "ac030287823b491db98d722a0c5939f6": {
          "model_module": "@jupyter-widgets/base",
          "model_name": "LayoutModel",
          "model_module_version": "1.2.0",
          "state": {
            "_model_module": "@jupyter-widgets/base",
            "_model_module_version": "1.2.0",
            "_model_name": "LayoutModel",
            "_view_count": null,
            "_view_module": "@jupyter-widgets/base",
            "_view_module_version": "1.2.0",
            "_view_name": "LayoutView",
            "align_content": null,
            "align_items": null,
            "align_self": null,
            "border": null,
            "bottom": null,
            "display": null,
            "flex": null,
            "flex_flow": null,
            "grid_area": null,
            "grid_auto_columns": null,
            "grid_auto_flow": null,
            "grid_auto_rows": null,
            "grid_column": null,
            "grid_gap": null,
            "grid_row": null,
            "grid_template_areas": null,
            "grid_template_columns": null,
            "grid_template_rows": null,
            "height": null,
            "justify_content": null,
            "justify_items": null,
            "left": null,
            "margin": null,
            "max_height": null,
            "max_width": null,
            "min_height": null,
            "min_width": null,
            "object_fit": null,
            "object_position": null,
            "order": null,
            "overflow": null,
            "overflow_x": null,
            "overflow_y": null,
            "padding": null,
            "right": null,
            "top": null,
            "visibility": null,
            "width": null
          }
        },
        "89680d58dc5448f18e45df24a862490f": {
          "model_module": "@jupyter-widgets/controls",
          "model_name": "ProgressStyleModel",
          "model_module_version": "1.5.0",
          "state": {
            "_model_module": "@jupyter-widgets/controls",
            "_model_module_version": "1.5.0",
            "_model_name": "ProgressStyleModel",
            "_view_count": null,
            "_view_module": "@jupyter-widgets/base",
            "_view_module_version": "1.2.0",
            "_view_name": "StyleView",
            "bar_color": null,
            "description_width": ""
          }
        },
        "40dc393a63b344a6b6bdaac8864e8dd2": {
          "model_module": "@jupyter-widgets/base",
          "model_name": "LayoutModel",
          "model_module_version": "1.2.0",
          "state": {
            "_model_module": "@jupyter-widgets/base",
            "_model_module_version": "1.2.0",
            "_model_name": "LayoutModel",
            "_view_count": null,
            "_view_module": "@jupyter-widgets/base",
            "_view_module_version": "1.2.0",
            "_view_name": "LayoutView",
            "align_content": null,
            "align_items": null,
            "align_self": null,
            "border": null,
            "bottom": null,
            "display": null,
            "flex": null,
            "flex_flow": null,
            "grid_area": null,
            "grid_auto_columns": null,
            "grid_auto_flow": null,
            "grid_auto_rows": null,
            "grid_column": null,
            "grid_gap": null,
            "grid_row": null,
            "grid_template_areas": null,
            "grid_template_columns": null,
            "grid_template_rows": null,
            "height": null,
            "justify_content": null,
            "justify_items": null,
            "left": null,
            "margin": null,
            "max_height": null,
            "max_width": null,
            "min_height": null,
            "min_width": null,
            "object_fit": null,
            "object_position": null,
            "order": null,
            "overflow": null,
            "overflow_x": null,
            "overflow_y": null,
            "padding": null,
            "right": null,
            "top": null,
            "visibility": null,
            "width": null
          }
        },
        "4d8678264624450ebe08c720b0f9e74e": {
          "model_module": "@jupyter-widgets/controls",
          "model_name": "DescriptionStyleModel",
          "model_module_version": "1.5.0",
          "state": {
            "_model_module": "@jupyter-widgets/controls",
            "_model_module_version": "1.5.0",
            "_model_name": "DescriptionStyleModel",
            "_view_count": null,
            "_view_module": "@jupyter-widgets/base",
            "_view_module_version": "1.2.0",
            "_view_name": "StyleView",
            "description_width": ""
          }
        },
        "ab6d68fca6b64328a109e948a4571f4c": {
          "model_module": "@jupyter-widgets/controls",
          "model_name": "HBoxModel",
          "model_module_version": "1.5.0",
          "state": {
            "_dom_classes": [],
            "_model_module": "@jupyter-widgets/controls",
            "_model_module_version": "1.5.0",
            "_model_name": "HBoxModel",
            "_view_count": null,
            "_view_module": "@jupyter-widgets/controls",
            "_view_module_version": "1.5.0",
            "_view_name": "HBoxView",
            "box_style": "",
            "children": [
              "IPY_MODEL_6876130f024146d6a071cc3dd52df6d4",
              "IPY_MODEL_f6563265448c4e9885964dff9a20b840",
              "IPY_MODEL_4db4c85ef3ca4c91ad6e13f76cc66933"
            ],
            "layout": "IPY_MODEL_80769ed4c89d4203b440d47958f98d2e"
          }
        },
        "6876130f024146d6a071cc3dd52df6d4": {
          "model_module": "@jupyter-widgets/controls",
          "model_name": "HTMLModel",
          "model_module_version": "1.5.0",
          "state": {
            "_dom_classes": [],
            "_model_module": "@jupyter-widgets/controls",
            "_model_module_version": "1.5.0",
            "_model_name": "HTMLModel",
            "_view_count": null,
            "_view_module": "@jupyter-widgets/controls",
            "_view_module_version": "1.5.0",
            "_view_name": "HTMLView",
            "description": "",
            "description_tooltip": null,
            "layout": "IPY_MODEL_1ab2bb8521224ed69a32c3d705eab42e",
            "placeholder": "​",
            "style": "IPY_MODEL_e1d12c1692ba402fad875308286a9a8a",
            "value": "100%"
          }
        },
        "f6563265448c4e9885964dff9a20b840": {
          "model_module": "@jupyter-widgets/controls",
          "model_name": "FloatProgressModel",
          "model_module_version": "1.5.0",
          "state": {
            "_dom_classes": [],
            "_model_module": "@jupyter-widgets/controls",
            "_model_module_version": "1.5.0",
            "_model_name": "FloatProgressModel",
            "_view_count": null,
            "_view_module": "@jupyter-widgets/controls",
            "_view_module_version": "1.5.0",
            "_view_name": "ProgressView",
            "bar_style": "success",
            "description": "",
            "description_tooltip": null,
            "layout": "IPY_MODEL_13ba025b5747488585166d2e06abbcd2",
            "max": 20,
            "min": 0,
            "orientation": "horizontal",
            "style": "IPY_MODEL_45a70a458ce84f7da2a9666b3fc975b2",
            "value": 20
          }
        },
        "4db4c85ef3ca4c91ad6e13f76cc66933": {
          "model_module": "@jupyter-widgets/controls",
          "model_name": "HTMLModel",
          "model_module_version": "1.5.0",
          "state": {
            "_dom_classes": [],
            "_model_module": "@jupyter-widgets/controls",
            "_model_module_version": "1.5.0",
            "_model_name": "HTMLModel",
            "_view_count": null,
            "_view_module": "@jupyter-widgets/controls",
            "_view_module_version": "1.5.0",
            "_view_name": "HTMLView",
            "description": "",
            "description_tooltip": null,
            "layout": "IPY_MODEL_e4c3b60755894cd68f4f91333de2b2b5",
            "placeholder": "​",
            "style": "IPY_MODEL_ea868b2e48fc4e1a8f02ac7f2fe74be0",
            "value": " 20/20 [00:31&lt;00:00,  1.40s/it]"
          }
        },
        "80769ed4c89d4203b440d47958f98d2e": {
          "model_module": "@jupyter-widgets/base",
          "model_name": "LayoutModel",
          "model_module_version": "1.2.0",
          "state": {
            "_model_module": "@jupyter-widgets/base",
            "_model_module_version": "1.2.0",
            "_model_name": "LayoutModel",
            "_view_count": null,
            "_view_module": "@jupyter-widgets/base",
            "_view_module_version": "1.2.0",
            "_view_name": "LayoutView",
            "align_content": null,
            "align_items": null,
            "align_self": null,
            "border": null,
            "bottom": null,
            "display": null,
            "flex": null,
            "flex_flow": null,
            "grid_area": null,
            "grid_auto_columns": null,
            "grid_auto_flow": null,
            "grid_auto_rows": null,
            "grid_column": null,
            "grid_gap": null,
            "grid_row": null,
            "grid_template_areas": null,
            "grid_template_columns": null,
            "grid_template_rows": null,
            "height": null,
            "justify_content": null,
            "justify_items": null,
            "left": null,
            "margin": null,
            "max_height": null,
            "max_width": null,
            "min_height": null,
            "min_width": null,
            "object_fit": null,
            "object_position": null,
            "order": null,
            "overflow": null,
            "overflow_x": null,
            "overflow_y": null,
            "padding": null,
            "right": null,
            "top": null,
            "visibility": null,
            "width": null
          }
        },
        "1ab2bb8521224ed69a32c3d705eab42e": {
          "model_module": "@jupyter-widgets/base",
          "model_name": "LayoutModel",
          "model_module_version": "1.2.0",
          "state": {
            "_model_module": "@jupyter-widgets/base",
            "_model_module_version": "1.2.0",
            "_model_name": "LayoutModel",
            "_view_count": null,
            "_view_module": "@jupyter-widgets/base",
            "_view_module_version": "1.2.0",
            "_view_name": "LayoutView",
            "align_content": null,
            "align_items": null,
            "align_self": null,
            "border": null,
            "bottom": null,
            "display": null,
            "flex": null,
            "flex_flow": null,
            "grid_area": null,
            "grid_auto_columns": null,
            "grid_auto_flow": null,
            "grid_auto_rows": null,
            "grid_column": null,
            "grid_gap": null,
            "grid_row": null,
            "grid_template_areas": null,
            "grid_template_columns": null,
            "grid_template_rows": null,
            "height": null,
            "justify_content": null,
            "justify_items": null,
            "left": null,
            "margin": null,
            "max_height": null,
            "max_width": null,
            "min_height": null,
            "min_width": null,
            "object_fit": null,
            "object_position": null,
            "order": null,
            "overflow": null,
            "overflow_x": null,
            "overflow_y": null,
            "padding": null,
            "right": null,
            "top": null,
            "visibility": null,
            "width": null
          }
        },
        "e1d12c1692ba402fad875308286a9a8a": {
          "model_module": "@jupyter-widgets/controls",
          "model_name": "DescriptionStyleModel",
          "model_module_version": "1.5.0",
          "state": {
            "_model_module": "@jupyter-widgets/controls",
            "_model_module_version": "1.5.0",
            "_model_name": "DescriptionStyleModel",
            "_view_count": null,
            "_view_module": "@jupyter-widgets/base",
            "_view_module_version": "1.2.0",
            "_view_name": "StyleView",
            "description_width": ""
          }
        },
        "13ba025b5747488585166d2e06abbcd2": {
          "model_module": "@jupyter-widgets/base",
          "model_name": "LayoutModel",
          "model_module_version": "1.2.0",
          "state": {
            "_model_module": "@jupyter-widgets/base",
            "_model_module_version": "1.2.0",
            "_model_name": "LayoutModel",
            "_view_count": null,
            "_view_module": "@jupyter-widgets/base",
            "_view_module_version": "1.2.0",
            "_view_name": "LayoutView",
            "align_content": null,
            "align_items": null,
            "align_self": null,
            "border": null,
            "bottom": null,
            "display": null,
            "flex": null,
            "flex_flow": null,
            "grid_area": null,
            "grid_auto_columns": null,
            "grid_auto_flow": null,
            "grid_auto_rows": null,
            "grid_column": null,
            "grid_gap": null,
            "grid_row": null,
            "grid_template_areas": null,
            "grid_template_columns": null,
            "grid_template_rows": null,
            "height": null,
            "justify_content": null,
            "justify_items": null,
            "left": null,
            "margin": null,
            "max_height": null,
            "max_width": null,
            "min_height": null,
            "min_width": null,
            "object_fit": null,
            "object_position": null,
            "order": null,
            "overflow": null,
            "overflow_x": null,
            "overflow_y": null,
            "padding": null,
            "right": null,
            "top": null,
            "visibility": null,
            "width": null
          }
        },
        "45a70a458ce84f7da2a9666b3fc975b2": {
          "model_module": "@jupyter-widgets/controls",
          "model_name": "ProgressStyleModel",
          "model_module_version": "1.5.0",
          "state": {
            "_model_module": "@jupyter-widgets/controls",
            "_model_module_version": "1.5.0",
            "_model_name": "ProgressStyleModel",
            "_view_count": null,
            "_view_module": "@jupyter-widgets/base",
            "_view_module_version": "1.2.0",
            "_view_name": "StyleView",
            "bar_color": null,
            "description_width": ""
          }
        },
        "e4c3b60755894cd68f4f91333de2b2b5": {
          "model_module": "@jupyter-widgets/base",
          "model_name": "LayoutModel",
          "model_module_version": "1.2.0",
          "state": {
            "_model_module": "@jupyter-widgets/base",
            "_model_module_version": "1.2.0",
            "_model_name": "LayoutModel",
            "_view_count": null,
            "_view_module": "@jupyter-widgets/base",
            "_view_module_version": "1.2.0",
            "_view_name": "LayoutView",
            "align_content": null,
            "align_items": null,
            "align_self": null,
            "border": null,
            "bottom": null,
            "display": null,
            "flex": null,
            "flex_flow": null,
            "grid_area": null,
            "grid_auto_columns": null,
            "grid_auto_flow": null,
            "grid_auto_rows": null,
            "grid_column": null,
            "grid_gap": null,
            "grid_row": null,
            "grid_template_areas": null,
            "grid_template_columns": null,
            "grid_template_rows": null,
            "height": null,
            "justify_content": null,
            "justify_items": null,
            "left": null,
            "margin": null,
            "max_height": null,
            "max_width": null,
            "min_height": null,
            "min_width": null,
            "object_fit": null,
            "object_position": null,
            "order": null,
            "overflow": null,
            "overflow_x": null,
            "overflow_y": null,
            "padding": null,
            "right": null,
            "top": null,
            "visibility": null,
            "width": null
          }
        },
        "ea868b2e48fc4e1a8f02ac7f2fe74be0": {
          "model_module": "@jupyter-widgets/controls",
          "model_name": "DescriptionStyleModel",
          "model_module_version": "1.5.0",
          "state": {
            "_model_module": "@jupyter-widgets/controls",
            "_model_module_version": "1.5.0",
            "_model_name": "DescriptionStyleModel",
            "_view_count": null,
            "_view_module": "@jupyter-widgets/base",
            "_view_module_version": "1.2.0",
            "_view_name": "StyleView",
            "description_width": ""
          }
        },
        "81e61b9483a04fa591d0df9877b10a4b": {
          "model_module": "@jupyter-widgets/controls",
          "model_name": "HBoxModel",
          "model_module_version": "1.5.0",
          "state": {
            "_dom_classes": [],
            "_model_module": "@jupyter-widgets/controls",
            "_model_module_version": "1.5.0",
            "_model_name": "HBoxModel",
            "_view_count": null,
            "_view_module": "@jupyter-widgets/controls",
            "_view_module_version": "1.5.0",
            "_view_name": "HBoxView",
            "box_style": "",
            "children": [
              "IPY_MODEL_787149cc4d83409c9fac4419ab28e4fc",
              "IPY_MODEL_ea5aeacb6c4b4e0d8b8bd41195dff209",
              "IPY_MODEL_d8d73dfc12924c70a4bc04cf4b717723"
            ],
            "layout": "IPY_MODEL_af7f4393a41f4a498942c65768eaf4b6"
          }
        },
        "787149cc4d83409c9fac4419ab28e4fc": {
          "model_module": "@jupyter-widgets/controls",
          "model_name": "HTMLModel",
          "model_module_version": "1.5.0",
          "state": {
            "_dom_classes": [],
            "_model_module": "@jupyter-widgets/controls",
            "_model_module_version": "1.5.0",
            "_model_name": "HTMLModel",
            "_view_count": null,
            "_view_module": "@jupyter-widgets/controls",
            "_view_module_version": "1.5.0",
            "_view_name": "HTMLView",
            "description": "",
            "description_tooltip": null,
            "layout": "IPY_MODEL_802712e3c30a4430bf18375e36b06248",
            "placeholder": "​",
            "style": "IPY_MODEL_3e826c3e4eef4560a998629fde92efc2",
            "value": "100%"
          }
        },
        "ea5aeacb6c4b4e0d8b8bd41195dff209": {
          "model_module": "@jupyter-widgets/controls",
          "model_name": "FloatProgressModel",
          "model_module_version": "1.5.0",
          "state": {
            "_dom_classes": [],
            "_model_module": "@jupyter-widgets/controls",
            "_model_module_version": "1.5.0",
            "_model_name": "FloatProgressModel",
            "_view_count": null,
            "_view_module": "@jupyter-widgets/controls",
            "_view_module_version": "1.5.0",
            "_view_name": "ProgressView",
            "bar_style": "success",
            "description": "",
            "description_tooltip": null,
            "layout": "IPY_MODEL_bd4eec5f2d8640969fc91b225f9135b6",
            "max": 15,
            "min": 0,
            "orientation": "horizontal",
            "style": "IPY_MODEL_c4bfaa16683c4d54b46a6d3aa32399a3",
            "value": 15
          }
        },
        "d8d73dfc12924c70a4bc04cf4b717723": {
          "model_module": "@jupyter-widgets/controls",
          "model_name": "HTMLModel",
          "model_module_version": "1.5.0",
          "state": {
            "_dom_classes": [],
            "_model_module": "@jupyter-widgets/controls",
            "_model_module_version": "1.5.0",
            "_model_name": "HTMLModel",
            "_view_count": null,
            "_view_module": "@jupyter-widgets/controls",
            "_view_module_version": "1.5.0",
            "_view_name": "HTMLView",
            "description": "",
            "description_tooltip": null,
            "layout": "IPY_MODEL_8cc9cfe0f3b34efbafd96962c6f888e6",
            "placeholder": "​",
            "style": "IPY_MODEL_3baddcf0d31b4b2688f1d9cfe3369fd8",
            "value": " 15/15 [49:16&lt;00:00, 196.81s/it]"
          }
        },
        "af7f4393a41f4a498942c65768eaf4b6": {
          "model_module": "@jupyter-widgets/base",
          "model_name": "LayoutModel",
          "model_module_version": "1.2.0",
          "state": {
            "_model_module": "@jupyter-widgets/base",
            "_model_module_version": "1.2.0",
            "_model_name": "LayoutModel",
            "_view_count": null,
            "_view_module": "@jupyter-widgets/base",
            "_view_module_version": "1.2.0",
            "_view_name": "LayoutView",
            "align_content": null,
            "align_items": null,
            "align_self": null,
            "border": null,
            "bottom": null,
            "display": null,
            "flex": null,
            "flex_flow": null,
            "grid_area": null,
            "grid_auto_columns": null,
            "grid_auto_flow": null,
            "grid_auto_rows": null,
            "grid_column": null,
            "grid_gap": null,
            "grid_row": null,
            "grid_template_areas": null,
            "grid_template_columns": null,
            "grid_template_rows": null,
            "height": null,
            "justify_content": null,
            "justify_items": null,
            "left": null,
            "margin": null,
            "max_height": null,
            "max_width": null,
            "min_height": null,
            "min_width": null,
            "object_fit": null,
            "object_position": null,
            "order": null,
            "overflow": null,
            "overflow_x": null,
            "overflow_y": null,
            "padding": null,
            "right": null,
            "top": null,
            "visibility": null,
            "width": null
          }
        },
        "802712e3c30a4430bf18375e36b06248": {
          "model_module": "@jupyter-widgets/base",
          "model_name": "LayoutModel",
          "model_module_version": "1.2.0",
          "state": {
            "_model_module": "@jupyter-widgets/base",
            "_model_module_version": "1.2.0",
            "_model_name": "LayoutModel",
            "_view_count": null,
            "_view_module": "@jupyter-widgets/base",
            "_view_module_version": "1.2.0",
            "_view_name": "LayoutView",
            "align_content": null,
            "align_items": null,
            "align_self": null,
            "border": null,
            "bottom": null,
            "display": null,
            "flex": null,
            "flex_flow": null,
            "grid_area": null,
            "grid_auto_columns": null,
            "grid_auto_flow": null,
            "grid_auto_rows": null,
            "grid_column": null,
            "grid_gap": null,
            "grid_row": null,
            "grid_template_areas": null,
            "grid_template_columns": null,
            "grid_template_rows": null,
            "height": null,
            "justify_content": null,
            "justify_items": null,
            "left": null,
            "margin": null,
            "max_height": null,
            "max_width": null,
            "min_height": null,
            "min_width": null,
            "object_fit": null,
            "object_position": null,
            "order": null,
            "overflow": null,
            "overflow_x": null,
            "overflow_y": null,
            "padding": null,
            "right": null,
            "top": null,
            "visibility": null,
            "width": null
          }
        },
        "3e826c3e4eef4560a998629fde92efc2": {
          "model_module": "@jupyter-widgets/controls",
          "model_name": "DescriptionStyleModel",
          "model_module_version": "1.5.0",
          "state": {
            "_model_module": "@jupyter-widgets/controls",
            "_model_module_version": "1.5.0",
            "_model_name": "DescriptionStyleModel",
            "_view_count": null,
            "_view_module": "@jupyter-widgets/base",
            "_view_module_version": "1.2.0",
            "_view_name": "StyleView",
            "description_width": ""
          }
        },
        "bd4eec5f2d8640969fc91b225f9135b6": {
          "model_module": "@jupyter-widgets/base",
          "model_name": "LayoutModel",
          "model_module_version": "1.2.0",
          "state": {
            "_model_module": "@jupyter-widgets/base",
            "_model_module_version": "1.2.0",
            "_model_name": "LayoutModel",
            "_view_count": null,
            "_view_module": "@jupyter-widgets/base",
            "_view_module_version": "1.2.0",
            "_view_name": "LayoutView",
            "align_content": null,
            "align_items": null,
            "align_self": null,
            "border": null,
            "bottom": null,
            "display": null,
            "flex": null,
            "flex_flow": null,
            "grid_area": null,
            "grid_auto_columns": null,
            "grid_auto_flow": null,
            "grid_auto_rows": null,
            "grid_column": null,
            "grid_gap": null,
            "grid_row": null,
            "grid_template_areas": null,
            "grid_template_columns": null,
            "grid_template_rows": null,
            "height": null,
            "justify_content": null,
            "justify_items": null,
            "left": null,
            "margin": null,
            "max_height": null,
            "max_width": null,
            "min_height": null,
            "min_width": null,
            "object_fit": null,
            "object_position": null,
            "order": null,
            "overflow": null,
            "overflow_x": null,
            "overflow_y": null,
            "padding": null,
            "right": null,
            "top": null,
            "visibility": null,
            "width": null
          }
        },
        "c4bfaa16683c4d54b46a6d3aa32399a3": {
          "model_module": "@jupyter-widgets/controls",
          "model_name": "ProgressStyleModel",
          "model_module_version": "1.5.0",
          "state": {
            "_model_module": "@jupyter-widgets/controls",
            "_model_module_version": "1.5.0",
            "_model_name": "ProgressStyleModel",
            "_view_count": null,
            "_view_module": "@jupyter-widgets/base",
            "_view_module_version": "1.2.0",
            "_view_name": "StyleView",
            "bar_color": null,
            "description_width": ""
          }
        },
        "8cc9cfe0f3b34efbafd96962c6f888e6": {
          "model_module": "@jupyter-widgets/base",
          "model_name": "LayoutModel",
          "model_module_version": "1.2.0",
          "state": {
            "_model_module": "@jupyter-widgets/base",
            "_model_module_version": "1.2.0",
            "_model_name": "LayoutModel",
            "_view_count": null,
            "_view_module": "@jupyter-widgets/base",
            "_view_module_version": "1.2.0",
            "_view_name": "LayoutView",
            "align_content": null,
            "align_items": null,
            "align_self": null,
            "border": null,
            "bottom": null,
            "display": null,
            "flex": null,
            "flex_flow": null,
            "grid_area": null,
            "grid_auto_columns": null,
            "grid_auto_flow": null,
            "grid_auto_rows": null,
            "grid_column": null,
            "grid_gap": null,
            "grid_row": null,
            "grid_template_areas": null,
            "grid_template_columns": null,
            "grid_template_rows": null,
            "height": null,
            "justify_content": null,
            "justify_items": null,
            "left": null,
            "margin": null,
            "max_height": null,
            "max_width": null,
            "min_height": null,
            "min_width": null,
            "object_fit": null,
            "object_position": null,
            "order": null,
            "overflow": null,
            "overflow_x": null,
            "overflow_y": null,
            "padding": null,
            "right": null,
            "top": null,
            "visibility": null,
            "width": null
          }
        },
        "3baddcf0d31b4b2688f1d9cfe3369fd8": {
          "model_module": "@jupyter-widgets/controls",
          "model_name": "DescriptionStyleModel",
          "model_module_version": "1.5.0",
          "state": {
            "_model_module": "@jupyter-widgets/controls",
            "_model_module_version": "1.5.0",
            "_model_name": "DescriptionStyleModel",
            "_view_count": null,
            "_view_module": "@jupyter-widgets/base",
            "_view_module_version": "1.2.0",
            "_view_name": "StyleView",
            "description_width": ""
          }
        }
      }
    }
  },
  "cells": [
    {
      "cell_type": "code",
      "source": [
        "import os\n",
        "import glob\n",
        "import json\n",
        "import pandas as pd\n",
        "from google.colab import drive\n",
        "\n",
        "# Step 1: Mount Google Drive\n",
        "drive.mount('/content/drive')\n",
        "\n",
        "# Step 2: Configure paths\n",
        "input_path = '/content/drive/MyDrive/m.tech_cv_project/data/*.json'\n",
        "output_folder = '/content/drive/MyDrive/m.tech_cv_project/processed_chunks'\n",
        "\n",
        "# Create output folder if it doesn't exist\n",
        "os.makedirs(output_folder, exist_ok=True)\n",
        "\n",
        "# Step 3: Get all JSON files\n",
        "all_files = sorted(glob.glob(input_path))\n",
        "chunk_size = 100\n",
        "\n",
        "# Step 4: Process files in chunks\n",
        "for chunk_start in range(0, len(all_files), chunk_size):\n",
        "    chunk_end = chunk_start + chunk_size\n",
        "    chunk_files = all_files[chunk_start:chunk_end]\n",
        "    chunk_data = []\n",
        "\n",
        "    print(f\"Processing files {chunk_start} to {chunk_end}...\")\n",
        "\n",
        "    for file in chunk_files:\n",
        "        with open(file, 'r', encoding='utf-8') as f:\n",
        "            content = json.load(f)\n",
        "            for playlist in content['playlists']:\n",
        "                for track in playlist['tracks']:\n",
        "                    chunk_data.append({\n",
        "                        \"playlist_id\": playlist['pid'],\n",
        "                        \"playlist_name\": playlist['name'],\n",
        "                        \"track_pos\": track['pos'],\n",
        "                        \"track_uri\": track['track_uri'],\n",
        "                        \"track_name\": track['track_name'],\n",
        "                        \"artist_name\": track['artist_name'],\n",
        "                        \"album_name\": track['album_name'],\n",
        "                        \"duration_ms\": track['duration_ms']\n",
        "                    })\n",
        "\n",
        "    # Step 5: Save this chunk to a CSV\n",
        "    df_chunk = pd.DataFrame(chunk_data)\n",
        "    output_file = os.path.join(output_folder, f'playlist_chunk_{chunk_start}_{chunk_end - 1}.csv')\n",
        "    df_chunk.to_csv(output_file, index=False)\n",
        "    print(f\"Saved chunk to: {output_file}\\n\")\n"
      ],
      "metadata": {
        "colab": {
          "base_uri": "https://localhost:8080/"
        },
        "id": "5pYtJZITcXlT",
        "outputId": "b4241c52-eda4-4e5d-ddbf-ee116ebc0a82"
      },
      "execution_count": null,
      "outputs": [
        {
          "output_type": "stream",
          "name": "stdout",
          "text": [
            "Drive already mounted at /content/drive; to attempt to forcibly remount, call drive.mount(\"/content/drive\", force_remount=True).\n",
            "Processing files 0 to 100...\n",
            "Saved chunk to: /content/drive/MyDrive/m.tech_cv_project/processed_chunks/playlist_chunk_0_99.csv\n",
            "\n",
            "Processing files 100 to 200...\n",
            "Saved chunk to: /content/drive/MyDrive/m.tech_cv_project/processed_chunks/playlist_chunk_100_199.csv\n",
            "\n"
          ]
        }
      ]
    },
    {
      "cell_type": "code",
      "source": [
        "df_chunk = pd.DataFrame(chunk_data)\n",
        "output_file = os.path.join(output_folder, f'playlist_chunk_{chunk_start}_{chunk_end - 1}.csv')\n",
        "df_chunk.to_csv(output_file, index=False)\n"
      ],
      "metadata": {
        "id": "q1cXCmxjhM-s"
      },
      "execution_count": null,
      "outputs": []
    },
    {
      "cell_type": "code",
      "source": [
        "print(f\"Saved chunk to: {output_file}\\n\")\n"
      ],
      "metadata": {
        "colab": {
          "base_uri": "https://localhost:8080/"
        },
        "id": "f_lxHD6DhoYn",
        "outputId": "8622b138-77cb-455f-ad4e-0370b6812e6e"
      },
      "execution_count": null,
      "outputs": [
        {
          "output_type": "stream",
          "name": "stdout",
          "text": [
            "Saved chunk to: /content/drive/MyDrive/m.tech_cv_project/processed_chunks/playlist_chunk_100_199.csv\n",
            "\n"
          ]
        }
      ]
    },
    {
      "cell_type": "code",
      "source": [
        "import pandas as pd\n",
        "import glob\n",
        "\n",
        "# Step 1: Define the folder where all your chunk CSVs are saved\n",
        "csv_folder = '/content/drive/MyDrive/m.tech_cv_project/processed_chunks'\n",
        "\n",
        "# Step 2: Use glob to find all chunk CSVs\n",
        "csv_files = sorted(glob.glob(f'{csv_folder}/playlist_chunk_*.csv'))\n",
        "\n",
        "# Step 3: Load and concatenate all CSVs\n",
        "df_list = [pd.read_csv(file) for file in csv_files]\n",
        "merged_df = pd.concat(df_list, ignore_index=True)\n",
        "\n",
        "# Step 4: Optional - Save merged DataFrame to a new CSV\n",
        "merged_csv_path = f'{csv_folder}/all_playlists_merged.csv'\n",
        "merged_df.to_csv(merged_csv_path, index=False)\n",
        "\n",
        "print(f\"✅ Merged {len(csv_files)} files. Final shape: {merged_df.shape}\")\n",
        "print(f\"📄 Merged CSV saved at: {merged_csv_path}\")\n"
      ],
      "metadata": {
        "colab": {
          "base_uri": "https://localhost:8080/"
        },
        "id": "xsUDk_lvjgxN",
        "outputId": "92e7de48-4c23-4c10-d7e5-e211786d4674"
      },
      "execution_count": null,
      "outputs": [
        {
          "output_type": "stream",
          "name": "stdout",
          "text": [
            "✅ Merged 2 files. Final shape: (11125224, 8)\n",
            "📄 Merged CSV saved at: /content/drive/MyDrive/m.tech_cv_project/processed_chunks/all_playlists_merged.csv\n"
          ]
        }
      ]
    },
    {
      "cell_type": "code",
      "source": [
        "merged_df.shape\n"
      ],
      "metadata": {
        "colab": {
          "base_uri": "https://localhost:8080/"
        },
        "id": "yl1xLVlhoc0Z",
        "outputId": "865b6b90-0a7e-4b5c-872b-b4b0bddecbf4"
      },
      "execution_count": null,
      "outputs": [
        {
          "output_type": "execute_result",
          "data": {
            "text/plain": [
              "(11125224, 8)"
            ]
          },
          "metadata": {},
          "execution_count": 7
        }
      ]
    },
    {
      "cell_type": "code",
      "source": [
        "import os\n",
        "import glob\n",
        "import json\n",
        "import pandas as pd\n",
        "from google.colab import drive\n",
        "drive.mount('/content/drive')\n",
        "df = pd.read_csv('/content/drive/MyDrive/m.tech_cv_project/processed_chunks/all_playlists_merged.csv')"
      ],
      "metadata": {
        "id": "oPxrYxZbwVwN",
        "colab": {
          "base_uri": "https://localhost:8080/"
        },
        "outputId": "63645b75-b793-444f-93aa-3df93715f95b"
      },
      "execution_count": null,
      "outputs": [
        {
          "output_type": "stream",
          "name": "stdout",
          "text": [
            "Drive already mounted at /content/drive; to attempt to forcibly remount, call drive.mount(\"/content/drive\", force_remount=True).\n"
          ]
        }
      ]
    },
    {
      "cell_type": "code",
      "source": [
        "df.head()"
      ],
      "metadata": {
        "colab": {
          "base_uri": "https://localhost:8080/",
          "height": 466
        },
        "id": "Gl6ByDQHxQMM",
        "outputId": "6a498117-9c0f-4103-9038-9b5dbc05f486"
      },
      "execution_count": null,
      "outputs": [
        {
          "output_type": "execute_result",
          "data": {
            "text/plain": [
              "   playlist_id playlist_name  track_pos                             track_uri  \\\n",
              "0         1000        disney          0  spotify:track:5IbCV9Icebx8rR6wAp5hhP   \n",
              "1         1000        disney          1  spotify:track:6rKVAvjHcxAzZ1BHtwh5yC   \n",
              "2         1000        disney          2  spotify:track:6Jlkb1Wh08RYHstWScsTvg   \n",
              "3         1000        disney          3  spotify:track:0XhC8bfStML9ygBmfOt1JJ   \n",
              "4         1000        disney          4  spotify:track:0ABxAcsRWlqckkyONsfP67   \n",
              "\n",
              "                                          track_name  \\\n",
              "0            Fathoms Below - Broadway Cast Recording   \n",
              "1      Daughters Of Triton - Broadway Cast Recording   \n",
              "2          The World Above - Broadway Cast Recording   \n",
              "3              Human Stuff - Broadway Cast Recording   \n",
              "4  I Want the Good Times Back - Broadway Cast Rec...   \n",
              "\n",
              "                                   artist_name  \\\n",
              "0  Original Broadway Cast - The Little Mermaid   \n",
              "1  Original Broadway Cast - The Little Mermaid   \n",
              "2  Original Broadway Cast - The Little Mermaid   \n",
              "3  Original Broadway Cast - The Little Mermaid   \n",
              "4  Original Broadway Cast - The Little Mermaid   \n",
              "\n",
              "                                          album_name  duration_ms  \n",
              "0  The Little Mermaid: Original Broadway Cast Rec...       154506  \n",
              "1  The Little Mermaid: Original Broadway Cast Rec...        79066  \n",
              "2  The Little Mermaid: Original Broadway Cast Rec...        94600  \n",
              "3  The Little Mermaid: Original Broadway Cast Rec...       151480  \n",
              "4  The Little Mermaid: Original Broadway Cast Rec...       297920  "
            ],
            "text/html": [
              "\n",
              "  <div id=\"df-1566573e-f71e-4951-8483-c9c9832c1fce\" class=\"colab-df-container\">\n",
              "    <div>\n",
              "<style scoped>\n",
              "    .dataframe tbody tr th:only-of-type {\n",
              "        vertical-align: middle;\n",
              "    }\n",
              "\n",
              "    .dataframe tbody tr th {\n",
              "        vertical-align: top;\n",
              "    }\n",
              "\n",
              "    .dataframe thead th {\n",
              "        text-align: right;\n",
              "    }\n",
              "</style>\n",
              "<table border=\"1\" class=\"dataframe\">\n",
              "  <thead>\n",
              "    <tr style=\"text-align: right;\">\n",
              "      <th></th>\n",
              "      <th>playlist_id</th>\n",
              "      <th>playlist_name</th>\n",
              "      <th>track_pos</th>\n",
              "      <th>track_uri</th>\n",
              "      <th>track_name</th>\n",
              "      <th>artist_name</th>\n",
              "      <th>album_name</th>\n",
              "      <th>duration_ms</th>\n",
              "    </tr>\n",
              "  </thead>\n",
              "  <tbody>\n",
              "    <tr>\n",
              "      <th>0</th>\n",
              "      <td>1000</td>\n",
              "      <td>disney</td>\n",
              "      <td>0</td>\n",
              "      <td>spotify:track:5IbCV9Icebx8rR6wAp5hhP</td>\n",
              "      <td>Fathoms Below - Broadway Cast Recording</td>\n",
              "      <td>Original Broadway Cast - The Little Mermaid</td>\n",
              "      <td>The Little Mermaid: Original Broadway Cast Rec...</td>\n",
              "      <td>154506</td>\n",
              "    </tr>\n",
              "    <tr>\n",
              "      <th>1</th>\n",
              "      <td>1000</td>\n",
              "      <td>disney</td>\n",
              "      <td>1</td>\n",
              "      <td>spotify:track:6rKVAvjHcxAzZ1BHtwh5yC</td>\n",
              "      <td>Daughters Of Triton - Broadway Cast Recording</td>\n",
              "      <td>Original Broadway Cast - The Little Mermaid</td>\n",
              "      <td>The Little Mermaid: Original Broadway Cast Rec...</td>\n",
              "      <td>79066</td>\n",
              "    </tr>\n",
              "    <tr>\n",
              "      <th>2</th>\n",
              "      <td>1000</td>\n",
              "      <td>disney</td>\n",
              "      <td>2</td>\n",
              "      <td>spotify:track:6Jlkb1Wh08RYHstWScsTvg</td>\n",
              "      <td>The World Above - Broadway Cast Recording</td>\n",
              "      <td>Original Broadway Cast - The Little Mermaid</td>\n",
              "      <td>The Little Mermaid: Original Broadway Cast Rec...</td>\n",
              "      <td>94600</td>\n",
              "    </tr>\n",
              "    <tr>\n",
              "      <th>3</th>\n",
              "      <td>1000</td>\n",
              "      <td>disney</td>\n",
              "      <td>3</td>\n",
              "      <td>spotify:track:0XhC8bfStML9ygBmfOt1JJ</td>\n",
              "      <td>Human Stuff - Broadway Cast Recording</td>\n",
              "      <td>Original Broadway Cast - The Little Mermaid</td>\n",
              "      <td>The Little Mermaid: Original Broadway Cast Rec...</td>\n",
              "      <td>151480</td>\n",
              "    </tr>\n",
              "    <tr>\n",
              "      <th>4</th>\n",
              "      <td>1000</td>\n",
              "      <td>disney</td>\n",
              "      <td>4</td>\n",
              "      <td>spotify:track:0ABxAcsRWlqckkyONsfP67</td>\n",
              "      <td>I Want the Good Times Back - Broadway Cast Rec...</td>\n",
              "      <td>Original Broadway Cast - The Little Mermaid</td>\n",
              "      <td>The Little Mermaid: Original Broadway Cast Rec...</td>\n",
              "      <td>297920</td>\n",
              "    </tr>\n",
              "  </tbody>\n",
              "</table>\n",
              "</div>\n",
              "    <div class=\"colab-df-buttons\">\n",
              "\n",
              "  <div class=\"colab-df-container\">\n",
              "    <button class=\"colab-df-convert\" onclick=\"convertToInteractive('df-1566573e-f71e-4951-8483-c9c9832c1fce')\"\n",
              "            title=\"Convert this dataframe to an interactive table.\"\n",
              "            style=\"display:none;\">\n",
              "\n",
              "  <svg xmlns=\"http://www.w3.org/2000/svg\" height=\"24px\" viewBox=\"0 -960 960 960\">\n",
              "    <path d=\"M120-120v-720h720v720H120Zm60-500h600v-160H180v160Zm220 220h160v-160H400v160Zm0 220h160v-160H400v160ZM180-400h160v-160H180v160Zm440 0h160v-160H620v160ZM180-180h160v-160H180v160Zm440 0h160v-160H620v160Z\"/>\n",
              "  </svg>\n",
              "    </button>\n",
              "\n",
              "  <style>\n",
              "    .colab-df-container {\n",
              "      display:flex;\n",
              "      gap: 12px;\n",
              "    }\n",
              "\n",
              "    .colab-df-convert {\n",
              "      background-color: #E8F0FE;\n",
              "      border: none;\n",
              "      border-radius: 50%;\n",
              "      cursor: pointer;\n",
              "      display: none;\n",
              "      fill: #1967D2;\n",
              "      height: 32px;\n",
              "      padding: 0 0 0 0;\n",
              "      width: 32px;\n",
              "    }\n",
              "\n",
              "    .colab-df-convert:hover {\n",
              "      background-color: #E2EBFA;\n",
              "      box-shadow: 0px 1px 2px rgba(60, 64, 67, 0.3), 0px 1px 3px 1px rgba(60, 64, 67, 0.15);\n",
              "      fill: #174EA6;\n",
              "    }\n",
              "\n",
              "    .colab-df-buttons div {\n",
              "      margin-bottom: 4px;\n",
              "    }\n",
              "\n",
              "    [theme=dark] .colab-df-convert {\n",
              "      background-color: #3B4455;\n",
              "      fill: #D2E3FC;\n",
              "    }\n",
              "\n",
              "    [theme=dark] .colab-df-convert:hover {\n",
              "      background-color: #434B5C;\n",
              "      box-shadow: 0px 1px 3px 1px rgba(0, 0, 0, 0.15);\n",
              "      filter: drop-shadow(0px 1px 2px rgba(0, 0, 0, 0.3));\n",
              "      fill: #FFFFFF;\n",
              "    }\n",
              "  </style>\n",
              "\n",
              "    <script>\n",
              "      const buttonEl =\n",
              "        document.querySelector('#df-1566573e-f71e-4951-8483-c9c9832c1fce button.colab-df-convert');\n",
              "      buttonEl.style.display =\n",
              "        google.colab.kernel.accessAllowed ? 'block' : 'none';\n",
              "\n",
              "      async function convertToInteractive(key) {\n",
              "        const element = document.querySelector('#df-1566573e-f71e-4951-8483-c9c9832c1fce');\n",
              "        const dataTable =\n",
              "          await google.colab.kernel.invokeFunction('convertToInteractive',\n",
              "                                                    [key], {});\n",
              "        if (!dataTable) return;\n",
              "\n",
              "        const docLinkHtml = 'Like what you see? Visit the ' +\n",
              "          '<a target=\"_blank\" href=https://colab.research.google.com/notebooks/data_table.ipynb>data table notebook</a>'\n",
              "          + ' to learn more about interactive tables.';\n",
              "        element.innerHTML = '';\n",
              "        dataTable['output_type'] = 'display_data';\n",
              "        await google.colab.output.renderOutput(dataTable, element);\n",
              "        const docLink = document.createElement('div');\n",
              "        docLink.innerHTML = docLinkHtml;\n",
              "        element.appendChild(docLink);\n",
              "      }\n",
              "    </script>\n",
              "  </div>\n",
              "\n",
              "\n",
              "<div id=\"df-cb381384-472a-46ca-b77a-cf7098b5513b\">\n",
              "  <button class=\"colab-df-quickchart\" onclick=\"quickchart('df-cb381384-472a-46ca-b77a-cf7098b5513b')\"\n",
              "            title=\"Suggest charts\"\n",
              "            style=\"display:none;\">\n",
              "\n",
              "<svg xmlns=\"http://www.w3.org/2000/svg\" height=\"24px\"viewBox=\"0 0 24 24\"\n",
              "     width=\"24px\">\n",
              "    <g>\n",
              "        <path d=\"M19 3H5c-1.1 0-2 .9-2 2v14c0 1.1.9 2 2 2h14c1.1 0 2-.9 2-2V5c0-1.1-.9-2-2-2zM9 17H7v-7h2v7zm4 0h-2V7h2v10zm4 0h-2v-4h2v4z\"/>\n",
              "    </g>\n",
              "</svg>\n",
              "  </button>\n",
              "\n",
              "<style>\n",
              "  .colab-df-quickchart {\n",
              "      --bg-color: #E8F0FE;\n",
              "      --fill-color: #1967D2;\n",
              "      --hover-bg-color: #E2EBFA;\n",
              "      --hover-fill-color: #174EA6;\n",
              "      --disabled-fill-color: #AAA;\n",
              "      --disabled-bg-color: #DDD;\n",
              "  }\n",
              "\n",
              "  [theme=dark] .colab-df-quickchart {\n",
              "      --bg-color: #3B4455;\n",
              "      --fill-color: #D2E3FC;\n",
              "      --hover-bg-color: #434B5C;\n",
              "      --hover-fill-color: #FFFFFF;\n",
              "      --disabled-bg-color: #3B4455;\n",
              "      --disabled-fill-color: #666;\n",
              "  }\n",
              "\n",
              "  .colab-df-quickchart {\n",
              "    background-color: var(--bg-color);\n",
              "    border: none;\n",
              "    border-radius: 50%;\n",
              "    cursor: pointer;\n",
              "    display: none;\n",
              "    fill: var(--fill-color);\n",
              "    height: 32px;\n",
              "    padding: 0;\n",
              "    width: 32px;\n",
              "  }\n",
              "\n",
              "  .colab-df-quickchart:hover {\n",
              "    background-color: var(--hover-bg-color);\n",
              "    box-shadow: 0 1px 2px rgba(60, 64, 67, 0.3), 0 1px 3px 1px rgba(60, 64, 67, 0.15);\n",
              "    fill: var(--button-hover-fill-color);\n",
              "  }\n",
              "\n",
              "  .colab-df-quickchart-complete:disabled,\n",
              "  .colab-df-quickchart-complete:disabled:hover {\n",
              "    background-color: var(--disabled-bg-color);\n",
              "    fill: var(--disabled-fill-color);\n",
              "    box-shadow: none;\n",
              "  }\n",
              "\n",
              "  .colab-df-spinner {\n",
              "    border: 2px solid var(--fill-color);\n",
              "    border-color: transparent;\n",
              "    border-bottom-color: var(--fill-color);\n",
              "    animation:\n",
              "      spin 1s steps(1) infinite;\n",
              "  }\n",
              "\n",
              "  @keyframes spin {\n",
              "    0% {\n",
              "      border-color: transparent;\n",
              "      border-bottom-color: var(--fill-color);\n",
              "      border-left-color: var(--fill-color);\n",
              "    }\n",
              "    20% {\n",
              "      border-color: transparent;\n",
              "      border-left-color: var(--fill-color);\n",
              "      border-top-color: var(--fill-color);\n",
              "    }\n",
              "    30% {\n",
              "      border-color: transparent;\n",
              "      border-left-color: var(--fill-color);\n",
              "      border-top-color: var(--fill-color);\n",
              "      border-right-color: var(--fill-color);\n",
              "    }\n",
              "    40% {\n",
              "      border-color: transparent;\n",
              "      border-right-color: var(--fill-color);\n",
              "      border-top-color: var(--fill-color);\n",
              "    }\n",
              "    60% {\n",
              "      border-color: transparent;\n",
              "      border-right-color: var(--fill-color);\n",
              "    }\n",
              "    80% {\n",
              "      border-color: transparent;\n",
              "      border-right-color: var(--fill-color);\n",
              "      border-bottom-color: var(--fill-color);\n",
              "    }\n",
              "    90% {\n",
              "      border-color: transparent;\n",
              "      border-bottom-color: var(--fill-color);\n",
              "    }\n",
              "  }\n",
              "</style>\n",
              "\n",
              "  <script>\n",
              "    async function quickchart(key) {\n",
              "      const quickchartButtonEl =\n",
              "        document.querySelector('#' + key + ' button');\n",
              "      quickchartButtonEl.disabled = true;  // To prevent multiple clicks.\n",
              "      quickchartButtonEl.classList.add('colab-df-spinner');\n",
              "      try {\n",
              "        const charts = await google.colab.kernel.invokeFunction(\n",
              "            'suggestCharts', [key], {});\n",
              "      } catch (error) {\n",
              "        console.error('Error during call to suggestCharts:', error);\n",
              "      }\n",
              "      quickchartButtonEl.classList.remove('colab-df-spinner');\n",
              "      quickchartButtonEl.classList.add('colab-df-quickchart-complete');\n",
              "    }\n",
              "    (() => {\n",
              "      let quickchartButtonEl =\n",
              "        document.querySelector('#df-cb381384-472a-46ca-b77a-cf7098b5513b button');\n",
              "      quickchartButtonEl.style.display =\n",
              "        google.colab.kernel.accessAllowed ? 'block' : 'none';\n",
              "    })();\n",
              "  </script>\n",
              "</div>\n",
              "\n",
              "    </div>\n",
              "  </div>\n"
            ],
            "application/vnd.google.colaboratory.intrinsic+json": {
              "type": "dataframe",
              "variable_name": "df"
            }
          },
          "metadata": {},
          "execution_count": 4
        }
      ]
    },
    {
      "cell_type": "code",
      "source": [
        "df.shape"
      ],
      "metadata": {
        "colab": {
          "base_uri": "https://localhost:8080/"
        },
        "id": "Do-iqv1REiXz",
        "outputId": "19158947-fe61-4fce-9092-ee239e14cfe3"
      },
      "execution_count": null,
      "outputs": [
        {
          "output_type": "execute_result",
          "data": {
            "text/plain": [
              "(11125224, 8)"
            ]
          },
          "metadata": {},
          "execution_count": 5
        }
      ]
    },
    {
      "cell_type": "code",
      "source": [
        "df.info()"
      ],
      "metadata": {
        "colab": {
          "base_uri": "https://localhost:8080/"
        },
        "id": "pTEaoUsbEkgX",
        "outputId": "a696fc0a-e6c4-4806-8133-137a0c4d9f33"
      },
      "execution_count": null,
      "outputs": [
        {
          "output_type": "stream",
          "name": "stdout",
          "text": [
            "<class 'pandas.core.frame.DataFrame'>\n",
            "RangeIndex: 11125224 entries, 0 to 11125223\n",
            "Data columns (total 8 columns):\n",
            " #   Column         Dtype \n",
            "---  ------         ----- \n",
            " 0   playlist_id    int64 \n",
            " 1   playlist_name  object\n",
            " 2   track_pos      int64 \n",
            " 3   track_uri      object\n",
            " 4   track_name     object\n",
            " 5   artist_name    object\n",
            " 6   album_name     object\n",
            " 7   duration_ms    int64 \n",
            "dtypes: int64(3), object(5)\n",
            "memory usage: 679.0+ MB\n"
          ]
        }
      ]
    },
    {
      "cell_type": "code",
      "source": [
        "missing = df.isnull().sum()\n",
        "missing_percentage = (missing / len(df)) * 100\n",
        "print(\"Missing Values (%):\\n\", missing_percentage)\n"
      ],
      "metadata": {
        "colab": {
          "base_uri": "https://localhost:8080/"
        },
        "id": "3o9yUEzKEr_s",
        "outputId": "042d973a-e752-41ea-a89f-65e91e944dc9"
      },
      "execution_count": null,
      "outputs": [
        {
          "output_type": "stream",
          "name": "stdout",
          "text": [
            "Missing Values (%):\n",
            " playlist_id      0.000000\n",
            "playlist_name    0.001879\n",
            "track_pos        0.000000\n",
            "track_uri        0.000000\n",
            "track_name       0.000297\n",
            "artist_name      0.000027\n",
            "album_name       0.000018\n",
            "duration_ms      0.000000\n",
            "dtype: float64\n"
          ]
        }
      ]
    },
    {
      "cell_type": "markdown",
      "source": [
        "##Drop or Fill missing values"
      ],
      "metadata": {
        "id": "hEHw1Vi8FF7h"
      }
    },
    {
      "cell_type": "code",
      "source": [
        "df.dropna(inplace=True)  # OR use df = df.dropna()\n"
      ],
      "metadata": {
        "id": "N_m9KFHWErvc"
      },
      "execution_count": null,
      "outputs": []
    },
    {
      "cell_type": "markdown",
      "source": [
        "##check missing values"
      ],
      "metadata": {
        "id": "BMqhi1t4FRKB"
      }
    },
    {
      "cell_type": "code",
      "source": [
        "# Missing values summary\n",
        "missing = df.isnull().sum()\n",
        "missing_percentage = (missing / len(df)) * 100\n",
        "print(\"Missing Values (%):\\n\", missing_percentage)\n"
      ],
      "metadata": {
        "colab": {
          "base_uri": "https://localhost:8080/"
        },
        "id": "Kh1WN-rUxWeZ",
        "outputId": "4292e8a2-5b3c-492b-ff18-9a65f2b5c301"
      },
      "execution_count": null,
      "outputs": [
        {
          "output_type": "stream",
          "name": "stdout",
          "text": [
            "Missing Values (%):\n",
            " playlist_id      0.0\n",
            "playlist_name    0.0\n",
            "track_pos        0.0\n",
            "track_uri        0.0\n",
            "track_name       0.0\n",
            "artist_name      0.0\n",
            "album_name       0.0\n",
            "duration_ms      0.0\n",
            "dtype: float64\n"
          ]
        }
      ]
    },
    {
      "cell_type": "markdown",
      "source": [
        "##Remove Duplicate"
      ],
      "metadata": {
        "id": "EVKvns7-FfQ9"
      }
    },
    {
      "cell_type": "code",
      "source": [
        "before = len(df)\n",
        "df.drop_duplicates(inplace=True)\n",
        "after = len(df)\n",
        "print(f\"✅ Removed {before - after} duplicate rows\")\n"
      ],
      "metadata": {
        "colab": {
          "base_uri": "https://localhost:8080/"
        },
        "id": "8h6-if6zFiwL",
        "outputId": "b21f21c5-e951-435c-b21d-999b6b341b4b"
      },
      "execution_count": null,
      "outputs": [
        {
          "output_type": "stream",
          "name": "stdout",
          "text": [
            "✅ Removed 0 duplicate rows\n"
          ]
        }
      ]
    },
    {
      "cell_type": "markdown",
      "source": [
        "##Validate Data Types"
      ],
      "metadata": {
        "id": "trkU177XFwMF"
      }
    },
    {
      "cell_type": "code",
      "source": [
        "print(df.dtypes)\n"
      ],
      "metadata": {
        "colab": {
          "base_uri": "https://localhost:8080/"
        },
        "id": "CuRzEbJ_F244",
        "outputId": "0cbb3f9c-fb44-4737-a8d0-1ce7522687b8"
      },
      "execution_count": null,
      "outputs": [
        {
          "output_type": "stream",
          "name": "stdout",
          "text": [
            "playlist_id       int64\n",
            "playlist_name    object\n",
            "track_pos         int64\n",
            "track_uri        object\n",
            "track_name       object\n",
            "artist_name      object\n",
            "album_name       object\n",
            "duration_ms       int64\n",
            "dtype: object\n"
          ]
        }
      ]
    },
    {
      "cell_type": "markdown",
      "source": [
        "##Normalize/Standardize Text Columns"
      ],
      "metadata": {
        "id": "xe2HMbdfGENT"
      }
    },
    {
      "cell_type": "code",
      "source": [
        "text_cols = ['playlist_name', 'track_name', 'artist_name', 'album_name']\n",
        "for col in text_cols:\n",
        "    df[col] = df[col].astype(str).str.strip().str.lower()\n"
      ],
      "metadata": {
        "id": "ZOzfqj7-GMBd"
      },
      "execution_count": null,
      "outputs": []
    },
    {
      "cell_type": "code",
      "source": [
        "# Convert duration to minutes for readability\n",
        "df['duration_min'] = df['duration_ms'] / 60000\n",
        "\n",
        "# Summary statistics\n",
        "df['duration_min'].T.describe()\n"
      ],
      "metadata": {
        "colab": {
          "base_uri": "https://localhost:8080/",
          "height": 335
        },
        "id": "C8XlnS_8xsmR",
        "outputId": "5b3a28dd-d089-47b4-efe4-90b546d1f1a2"
      },
      "execution_count": null,
      "outputs": [
        {
          "output_type": "execute_result",
          "data": {
            "text/plain": [
              "count    1.112498e+07\n",
              "mean     3.917215e+00\n",
              "std      1.271727e+00\n",
              "min      0.000000e+00\n",
              "25%      3.309700e+00\n",
              "50%      3.753417e+00\n",
              "75%      4.324283e+00\n",
              "max      3.278676e+02\n",
              "Name: duration_min, dtype: float64"
            ],
            "text/html": [
              "<div>\n",
              "<style scoped>\n",
              "    .dataframe tbody tr th:only-of-type {\n",
              "        vertical-align: middle;\n",
              "    }\n",
              "\n",
              "    .dataframe tbody tr th {\n",
              "        vertical-align: top;\n",
              "    }\n",
              "\n",
              "    .dataframe thead th {\n",
              "        text-align: right;\n",
              "    }\n",
              "</style>\n",
              "<table border=\"1\" class=\"dataframe\">\n",
              "  <thead>\n",
              "    <tr style=\"text-align: right;\">\n",
              "      <th></th>\n",
              "      <th>duration_min</th>\n",
              "    </tr>\n",
              "  </thead>\n",
              "  <tbody>\n",
              "    <tr>\n",
              "      <th>count</th>\n",
              "      <td>1.112498e+07</td>\n",
              "    </tr>\n",
              "    <tr>\n",
              "      <th>mean</th>\n",
              "      <td>3.917215e+00</td>\n",
              "    </tr>\n",
              "    <tr>\n",
              "      <th>std</th>\n",
              "      <td>1.271727e+00</td>\n",
              "    </tr>\n",
              "    <tr>\n",
              "      <th>min</th>\n",
              "      <td>0.000000e+00</td>\n",
              "    </tr>\n",
              "    <tr>\n",
              "      <th>25%</th>\n",
              "      <td>3.309700e+00</td>\n",
              "    </tr>\n",
              "    <tr>\n",
              "      <th>50%</th>\n",
              "      <td>3.753417e+00</td>\n",
              "    </tr>\n",
              "    <tr>\n",
              "      <th>75%</th>\n",
              "      <td>4.324283e+00</td>\n",
              "    </tr>\n",
              "    <tr>\n",
              "      <th>max</th>\n",
              "      <td>3.278676e+02</td>\n",
              "    </tr>\n",
              "  </tbody>\n",
              "</table>\n",
              "</div><br><label><b>dtype:</b> float64</label>"
            ]
          },
          "metadata": {},
          "execution_count": 13
        }
      ]
    },
    {
      "cell_type": "code",
      "source": [
        "# Top 10 most frequent artists\n",
        "top_artists = df['artist_name'].value_counts().head(10)\n",
        "print(\"Top 10 Artists:\\n\", top_artists)\n",
        "\n",
        "# Top 10 most frequent tracks\n",
        "top_tracks = df['track_name'].value_counts().head(10)\n",
        "print(\"\\nTop 10 Tracks:\\n\", top_tracks)\n"
      ],
      "metadata": {
        "colab": {
          "base_uri": "https://localhost:8080/"
        },
        "id": "WdfhQnPPyrxI",
        "outputId": "3d1220b1-9871-4878-8d43-7a7c526eab38"
      },
      "execution_count": null,
      "outputs": [
        {
          "output_type": "stream",
          "name": "stdout",
          "text": [
            "Top 10 Artists:\n",
            " artist_name\n",
            "drake             143929\n",
            "kanye west         70686\n",
            "kendrick lamar     60263\n",
            "rihanna            58102\n",
            "the weeknd         53679\n",
            "eminem             51992\n",
            "ed sheeran         45151\n",
            "future             42325\n",
            "j. cole            41532\n",
            "justin bieber      41134\n",
            "Name: count, dtype: int64\n",
            "\n",
            "Top 10 Tracks:\n",
            " track_name\n",
            "closer                         11471\n",
            "home                            8501\n",
            "humble.                         8021\n",
            "one dance                       7490\n",
            "roses                           7437\n",
            "congratulations                 7277\n",
            "broccoli (feat. lil yachty)     7015\n",
            "ride                            6810\n",
            "let me love you                 6796\n",
            "forever                         6410\n",
            "Name: count, dtype: int64\n"
          ]
        }
      ]
    },
    {
      "cell_type": "code",
      "source": [
        "# Number of unique playlists\n",
        "print(\"Unique Playlists:\", df['playlist_id'].nunique())\n",
        "\n",
        "# Average number of tracks per playlist\n",
        "tracks_per_playlist = df.groupby('playlist_id')['track_uri'].count()\n",
        "print(\"Average Tracks per Playlist:\", tracks_per_playlist.mean())\n"
      ],
      "metadata": {
        "colab": {
          "base_uri": "https://localhost:8080/"
        },
        "id": "gSm68pECy0sX",
        "outputId": "d978aada-b8c2-4ff3-c328-ccc27a8e130a"
      },
      "execution_count": null,
      "outputs": [
        {
          "output_type": "stream",
          "name": "stdout",
          "text": [
            "Unique Playlists: 169997\n",
            "Average Tracks per Playlist: 65.44219603875362\n"
          ]
        }
      ]
    },
    {
      "cell_type": "code",
      "source": [
        "import matplotlib.pyplot as plt\n",
        "import seaborn as sns\n",
        "\n",
        "# Plot distribution of track durations\n",
        "plt.figure(figsize=(10, 5))\n",
        "sns.histplot(df['duration_min'], bins=50, kde=True)\n",
        "plt.title('Distribution of Track Duration (in minutes)')\n",
        "plt.xlabel('Duration (minutes)')\n",
        "plt.ylabel('Count')\n",
        "plt.grid(True)\n",
        "plt.show()\n",
        "\n",
        "# Top 10 artists barplot\n",
        "plt.figure(figsize=(10, 5))\n",
        "top_artists.plot(kind='bar')\n",
        "plt.title('Top 10 Most Common Artists')\n",
        "plt.xlabel('Artist Name')\n",
        "plt.ylabel('Number of Tracks in Playlists')\n",
        "plt.xticks(rotation=45)\n",
        "plt.grid(True)\n",
        "plt.show()\n"
      ],
      "metadata": {
        "colab": {
          "base_uri": "https://localhost:8080/",
          "height": 1000
        },
        "id": "vIId3eAxy6NX",
        "outputId": "05cd9712-fd51-4be0-bd29-98da7fbd0222"
      },
      "execution_count": null,
      "outputs": [
        {
          "output_type": "display_data",
          "data": {
            "text/plain": [
              "<Figure size 1000x500 with 1 Axes>"
            ],
            "image/png": "[encoded data removed]"
          },
          "metadata": {}
        },
        {
          "output_type": "display_data",
          "data": {
            "text/plain": [
              "<Figure size 1000x500 with 1 Axes>"
            ],
            "image/png": "[encoded data removed]"
          },
          "metadata": {}
        }
      ]
    },
    {
      "cell_type": "code",
      "source": [
        "duplicates = df.duplicated().sum()\n"
      ],
      "metadata": {
        "id": "8ZUB9Hty2gQg"
      },
      "execution_count": null,
      "outputs": []
    },
    {
      "cell_type": "code",
      "source": [
        "df.describe(include='all')\n"
      ],
      "metadata": {
        "colab": {
          "base_uri": "https://localhost:8080/",
          "height": 414
        },
        "id": "kt6vtkO737sE",
        "outputId": "f7fe88ba-8e7f-4fd4-93da-3d2ca4615eae"
      },
      "execution_count": null,
      "outputs": [
        {
          "output_type": "execute_result",
          "data": {
            "text/plain": [
              "         playlist_id playlist_name     track_pos  \\\n",
              "count   1.112498e+07      11124977  1.112498e+07   \n",
              "unique           NaN         18989           NaN   \n",
              "top              NaN           rap           NaN   \n",
              "freq             NaN        135674           NaN   \n",
              "mean    2.496656e+05           NaN  5.381368e+01   \n",
              "std     7.342120e+04           NaN  4.796249e+01   \n",
              "min     1.000000e+03           NaN  0.000000e+00   \n",
              "25%     1.934390e+05           NaN  1.700000e+01   \n",
              "50%     2.519400e+05           NaN  3.900000e+01   \n",
              "75%     3.124270e+05           NaN  7.800000e+01   \n",
              "max     3.719990e+05           NaN  2.490000e+02   \n",
              "\n",
              "                                   track_uri track_name artist_name  \\\n",
              "count                               11124977   11124977    11124977   \n",
              "unique                                909666     615556      136255   \n",
              "top     spotify:track:7KXjTSCq5nL1LoYtL7XAwS     closer       drake   \n",
              "freq                                    7999      11471      143929   \n",
              "mean                                     NaN        NaN         NaN   \n",
              "std                                      NaN        NaN         NaN   \n",
              "min                                      NaN        NaN         NaN   \n",
              "25%                                      NaN        NaN         NaN   \n",
              "50%                                      NaN        NaN         NaN   \n",
              "75%                                      NaN        NaN         NaN   \n",
              "max                                      NaN        NaN         NaN   \n",
              "\n",
              "       album_name   duration_ms  duration_min  \n",
              "count    11124977  1.112498e+07  1.112498e+07  \n",
              "unique     273234           NaN           NaN  \n",
              "top         views           NaN           NaN  \n",
              "freq        35422           NaN           NaN  \n",
              "mean          NaN  2.350329e+05  3.917215e+00  \n",
              "std           NaN  7.630362e+04  1.271727e+00  \n",
              "min           NaN  0.000000e+00  0.000000e+00  \n",
              "25%           NaN  1.985820e+05  3.309700e+00  \n",
              "50%           NaN  2.252050e+05  3.753417e+00  \n",
              "75%           NaN  2.594570e+05  4.324283e+00  \n",
              "max           NaN  1.967206e+07  3.278676e+02  "
            ],
            "text/html": [
              "\n",
              "  <div id=\"df-639d958e-621d-45dd-9bbf-efbda987ffae\" class=\"colab-df-container\">\n",
              "    <div>\n",
              "<style scoped>\n",
              "    .dataframe tbody tr th:only-of-type {\n",
              "        vertical-align: middle;\n",
              "    }\n",
              "\n",
              "    .dataframe tbody tr th {\n",
              "        vertical-align: top;\n",
              "    }\n",
              "\n",
              "    .dataframe thead th {\n",
              "        text-align: right;\n",
              "    }\n",
              "</style>\n",
              "<table border=\"1\" class=\"dataframe\">\n",
              "  <thead>\n",
              "    <tr style=\"text-align: right;\">\n",
              "      <th></th>\n",
              "      <th>playlist_id</th>\n",
              "      <th>playlist_name</th>\n",
              "      <th>track_pos</th>\n",
              "      <th>track_uri</th>\n",
              "      <th>track_name</th>\n",
              "      <th>artist_name</th>\n",
              "      <th>album_name</th>\n",
              "      <th>duration_ms</th>\n",
              "      <th>duration_min</th>\n",
              "    </tr>\n",
              "  </thead>\n",
              "  <tbody>\n",
              "    <tr>\n",
              "      <th>count</th>\n",
              "      <td>1.112498e+07</td>\n",
              "      <td>11124977</td>\n",
              "      <td>1.112498e+07</td>\n",
              "      <td>11124977</td>\n",
              "      <td>11124977</td>\n",
              "      <td>11124977</td>\n",
              "      <td>11124977</td>\n",
              "      <td>1.112498e+07</td>\n",
              "      <td>1.112498e+07</td>\n",
              "    </tr>\n",
              "    <tr>\n",
              "      <th>unique</th>\n",
              "      <td>NaN</td>\n",
              "      <td>18989</td>\n",
              "      <td>NaN</td>\n",
              "      <td>909666</td>\n",
              "      <td>615556</td>\n",
              "      <td>136255</td>\n",
              "      <td>273234</td>\n",
              "      <td>NaN</td>\n",
              "      <td>NaN</td>\n",
              "    </tr>\n",
              "    <tr>\n",
              "      <th>top</th>\n",
              "      <td>NaN</td>\n",
              "      <td>rap</td>\n",
              "      <td>NaN</td>\n",
              "      <td>spotify:track:7KXjTSCq5nL1LoYtL7XAwS</td>\n",
              "      <td>closer</td>\n",
              "      <td>drake</td>\n",
              "      <td>views</td>\n",
              "      <td>NaN</td>\n",
              "      <td>NaN</td>\n",
              "    </tr>\n",
              "    <tr>\n",
              "      <th>freq</th>\n",
              "      <td>NaN</td>\n",
              "      <td>135674</td>\n",
              "      <td>NaN</td>\n",
              "      <td>7999</td>\n",
              "      <td>11471</td>\n",
              "      <td>143929</td>\n",
              "      <td>35422</td>\n",
              "      <td>NaN</td>\n",
              "      <td>NaN</td>\n",
              "    </tr>\n",
              "    <tr>\n",
              "      <th>mean</th>\n",
              "      <td>2.496656e+05</td>\n",
              "      <td>NaN</td>\n",
              "      <td>5.381368e+01</td>\n",
              "      <td>NaN</td>\n",
              "      <td>NaN</td>\n",
              "      <td>NaN</td>\n",
              "      <td>NaN</td>\n",
              "      <td>2.350329e+05</td>\n",
              "      <td>3.917215e+00</td>\n",
              "    </tr>\n",
              "    <tr>\n",
              "      <th>std</th>\n",
              "      <td>7.342120e+04</td>\n",
              "      <td>NaN</td>\n",
              "      <td>4.796249e+01</td>\n",
              "      <td>NaN</td>\n",
              "      <td>NaN</td>\n",
              "      <td>NaN</td>\n",
              "      <td>NaN</td>\n",
              "      <td>7.630362e+04</td>\n",
              "      <td>1.271727e+00</td>\n",
              "    </tr>\n",
              "    <tr>\n",
              "      <th>min</th>\n",
              "      <td>1.000000e+03</td>\n",
              "      <td>NaN</td>\n",
              "      <td>0.000000e+00</td>\n",
              "      <td>NaN</td>\n",
              "      <td>NaN</td>\n",
              "      <td>NaN</td>\n",
              "      <td>NaN</td>\n",
              "      <td>0.000000e+00</td>\n",
              "      <td>0.000000e+00</td>\n",
              "    </tr>\n",
              "    <tr>\n",
              "      <th>25%</th>\n",
              "      <td>1.934390e+05</td>\n",
              "      <td>NaN</td>\n",
              "      <td>1.700000e+01</td>\n",
              "      <td>NaN</td>\n",
              "      <td>NaN</td>\n",
              "      <td>NaN</td>\n",
              "      <td>NaN</td>\n",
              "      <td>1.985820e+05</td>\n",
              "      <td>3.309700e+00</td>\n",
              "    </tr>\n",
              "    <tr>\n",
              "      <th>50%</th>\n",
              "      <td>2.519400e+05</td>\n",
              "      <td>NaN</td>\n",
              "      <td>3.900000e+01</td>\n",
              "      <td>NaN</td>\n",
              "      <td>NaN</td>\n",
              "      <td>NaN</td>\n",
              "      <td>NaN</td>\n",
              "      <td>2.252050e+05</td>\n",
              "      <td>3.753417e+00</td>\n",
              "    </tr>\n",
              "    <tr>\n",
              "      <th>75%</th>\n",
              "      <td>3.124270e+05</td>\n",
              "      <td>NaN</td>\n",
              "      <td>7.800000e+01</td>\n",
              "      <td>NaN</td>\n",
              "      <td>NaN</td>\n",
              "      <td>NaN</td>\n",
              "      <td>NaN</td>\n",
              "      <td>2.594570e+05</td>\n",
              "      <td>4.324283e+00</td>\n",
              "    </tr>\n",
              "    <tr>\n",
              "      <th>max</th>\n",
              "      <td>3.719990e+05</td>\n",
              "      <td>NaN</td>\n",
              "      <td>2.490000e+02</td>\n",
              "      <td>NaN</td>\n",
              "      <td>NaN</td>\n",
              "      <td>NaN</td>\n",
              "      <td>NaN</td>\n",
              "      <td>1.967206e+07</td>\n",
              "      <td>3.278676e+02</td>\n",
              "    </tr>\n",
              "  </tbody>\n",
              "</table>\n",
              "</div>\n",
              "    <div class=\"colab-df-buttons\">\n",
              "\n",
              "  <div class=\"colab-df-container\">\n",
              "    <button class=\"colab-df-convert\" onclick=\"convertToInteractive('df-639d958e-621d-45dd-9bbf-efbda987ffae')\"\n",
              "            title=\"Convert this dataframe to an interactive table.\"\n",
              "            style=\"display:none;\">\n",
              "\n",
              "  <svg xmlns=\"http://www.w3.org/2000/svg\" height=\"24px\" viewBox=\"0 -960 960 960\">\n",
              "    <path d=\"M120-120v-720h720v720H120Zm60-500h600v-160H180v160Zm220 220h160v-160H400v160Zm0 220h160v-160H400v160ZM180-400h160v-160H180v160Zm440 0h160v-160H620v160ZM180-180h160v-160H180v160Zm440 0h160v-160H620v160Z\"/>\n",
              "  </svg>\n",
              "    </button>\n",
              "\n",
              "  <style>\n",
              "    .colab-df-container {\n",
              "      display:flex;\n",
              "      gap: 12px;\n",
              "    }\n",
              "\n",
              "    .colab-df-convert {\n",
              "      background-color: #E8F0FE;\n",
              "      border: none;\n",
              "      border-radius: 50%;\n",
              "      cursor: pointer;\n",
              "      display: none;\n",
              "      fill: #1967D2;\n",
              "      height: 32px;\n",
              "      padding: 0 0 0 0;\n",
              "      width: 32px;\n",
              "    }\n",
              "\n",
              "    .colab-df-convert:hover {\n",
              "      background-color: #E2EBFA;\n",
              "      box-shadow: 0px 1px 2px rgba(60, 64, 67, 0.3), 0px 1px 3px 1px rgba(60, 64, 67, 0.15);\n",
              "      fill: #174EA6;\n",
              "    }\n",
              "\n",
              "    .colab-df-buttons div {\n",
              "      margin-bottom: 4px;\n",
              "    }\n",
              "\n",
              "    [theme=dark] .colab-df-convert {\n",
              "      background-color: #3B4455;\n",
              "      fill: #D2E3FC;\n",
              "    }\n",
              "\n",
              "    [theme=dark] .colab-df-convert:hover {\n",
              "      background-color: #434B5C;\n",
              "      box-shadow: 0px 1px 3px 1px rgba(0, 0, 0, 0.15);\n",
              "      filter: drop-shadow(0px 1px 2px rgba(0, 0, 0, 0.3));\n",
              "      fill: #FFFFFF;\n",
              "    }\n",
              "  </style>\n",
              "\n",
              "    <script>\n",
              "      const buttonEl =\n",
              "        document.querySelector('#df-639d958e-621d-45dd-9bbf-efbda987ffae button.colab-df-convert');\n",
              "      buttonEl.style.display =\n",
              "        google.colab.kernel.accessAllowed ? 'block' : 'none';\n",
              "\n",
              "      async function convertToInteractive(key) {\n",
              "        const element = document.querySelector('#df-639d958e-621d-45dd-9bbf-efbda987ffae');\n",
              "        const dataTable =\n",
              "          await google.colab.kernel.invokeFunction('convertToInteractive',\n",
              "                                                    [key], {});\n",
              "        if (!dataTable) return;\n",
              "\n",
              "        const docLinkHtml = 'Like what you see? Visit the ' +\n",
              "          '<a target=\"_blank\" href=https://colab.research.google.com/notebooks/data_table.ipynb>data table notebook</a>'\n",
              "          + ' to learn more about interactive tables.';\n",
              "        element.innerHTML = '';\n",
              "        dataTable['output_type'] = 'display_data';\n",
              "        await google.colab.output.renderOutput(dataTable, element);\n",
              "        const docLink = document.createElement('div');\n",
              "        docLink.innerHTML = docLinkHtml;\n",
              "        element.appendChild(docLink);\n",
              "      }\n",
              "    </script>\n",
              "  </div>\n",
              "\n",
              "\n",
              "<div id=\"df-eb998c82-4f38-4e35-ac76-df04fe162f58\">\n",
              "  <button class=\"colab-df-quickchart\" onclick=\"quickchart('df-eb998c82-4f38-4e35-ac76-df04fe162f58')\"\n",
              "            title=\"Suggest charts\"\n",
              "            style=\"display:none;\">\n",
              "\n",
              "<svg xmlns=\"http://www.w3.org/2000/svg\" height=\"24px\"viewBox=\"0 0 24 24\"\n",
              "     width=\"24px\">\n",
              "    <g>\n",
              "        <path d=\"M19 3H5c-1.1 0-2 .9-2 2v14c0 1.1.9 2 2 2h14c1.1 0 2-.9 2-2V5c0-1.1-.9-2-2-2zM9 17H7v-7h2v7zm4 0h-2V7h2v10zm4 0h-2v-4h2v4z\"/>\n",
              "    </g>\n",
              "</svg>\n",
              "  </button>\n",
              "\n",
              "<style>\n",
              "  .colab-df-quickchart {\n",
              "      --bg-color: #E8F0FE;\n",
              "      --fill-color: #1967D2;\n",
              "      --hover-bg-color: #E2EBFA;\n",
              "      --hover-fill-color: #174EA6;\n",
              "      --disabled-fill-color: #AAA;\n",
              "      --disabled-bg-color: #DDD;\n",
              "  }\n",
              "\n",
              "  [theme=dark] .colab-df-quickchart {\n",
              "      --bg-color: #3B4455;\n",
              "      --fill-color: #D2E3FC;\n",
              "      --hover-bg-color: #434B5C;\n",
              "      --hover-fill-color: #FFFFFF;\n",
              "      --disabled-bg-color: #3B4455;\n",
              "      --disabled-fill-color: #666;\n",
              "  }\n",
              "\n",
              "  .colab-df-quickchart {\n",
              "    background-color: var(--bg-color);\n",
              "    border: none;\n",
              "    border-radius: 50%;\n",
              "    cursor: pointer;\n",
              "    display: none;\n",
              "    fill: var(--fill-color);\n",
              "    height: 32px;\n",
              "    padding: 0;\n",
              "    width: 32px;\n",
              "  }\n",
              "\n",
              "  .colab-df-quickchart:hover {\n",
              "    background-color: var(--hover-bg-color);\n",
              "    box-shadow: 0 1px 2px rgba(60, 64, 67, 0.3), 0 1px 3px 1px rgba(60, 64, 67, 0.15);\n",
              "    fill: var(--button-hover-fill-color);\n",
              "  }\n",
              "\n",
              "  .colab-df-quickchart-complete:disabled,\n",
              "  .colab-df-quickchart-complete:disabled:hover {\n",
              "    background-color: var(--disabled-bg-color);\n",
              "    fill: var(--disabled-fill-color);\n",
              "    box-shadow: none;\n",
              "  }\n",
              "\n",
              "  .colab-df-spinner {\n",
              "    border: 2px solid var(--fill-color);\n",
              "    border-color: transparent;\n",
              "    border-bottom-color: var(--fill-color);\n",
              "    animation:\n",
              "      spin 1s steps(1) infinite;\n",
              "  }\n",
              "\n",
              "  @keyframes spin {\n",
              "    0% {\n",
              "      border-color: transparent;\n",
              "      border-bottom-color: var(--fill-color);\n",
              "      border-left-color: var(--fill-color);\n",
              "    }\n",
              "    20% {\n",
              "      border-color: transparent;\n",
              "      border-left-color: var(--fill-color);\n",
              "      border-top-color: var(--fill-color);\n",
              "    }\n",
              "    30% {\n",
              "      border-color: transparent;\n",
              "      border-left-color: var(--fill-color);\n",
              "      border-top-color: var(--fill-color);\n",
              "      border-right-color: var(--fill-color);\n",
              "    }\n",
              "    40% {\n",
              "      border-color: transparent;\n",
              "      border-right-color: var(--fill-color);\n",
              "      border-top-color: var(--fill-color);\n",
              "    }\n",
              "    60% {\n",
              "      border-color: transparent;\n",
              "      border-right-color: var(--fill-color);\n",
              "    }\n",
              "    80% {\n",
              "      border-color: transparent;\n",
              "      border-right-color: var(--fill-color);\n",
              "      border-bottom-color: var(--fill-color);\n",
              "    }\n",
              "    90% {\n",
              "      border-color: transparent;\n",
              "      border-bottom-color: var(--fill-color);\n",
              "    }\n",
              "  }\n",
              "</style>\n",
              "\n",
              "  <script>\n",
              "    async function quickchart(key) {\n",
              "      const quickchartButtonEl =\n",
              "        document.querySelector('#' + key + ' button');\n",
              "      quickchartButtonEl.disabled = true;  // To prevent multiple clicks.\n",
              "      quickchartButtonEl.classList.add('colab-df-spinner');\n",
              "      try {\n",
              "        const charts = await google.colab.kernel.invokeFunction(\n",
              "            'suggestCharts', [key], {});\n",
              "      } catch (error) {\n",
              "        console.error('Error during call to suggestCharts:', error);\n",
              "      }\n",
              "      quickchartButtonEl.classList.remove('colab-df-spinner');\n",
              "      quickchartButtonEl.classList.add('colab-df-quickchart-complete');\n",
              "    }\n",
              "    (() => {\n",
              "      let quickchartButtonEl =\n",
              "        document.querySelector('#df-eb998c82-4f38-4e35-ac76-df04fe162f58 button');\n",
              "      quickchartButtonEl.style.display =\n",
              "        google.colab.kernel.accessAllowed ? 'block' : 'none';\n",
              "    })();\n",
              "  </script>\n",
              "</div>\n",
              "\n",
              "    </div>\n",
              "  </div>\n"
            ],
            "application/vnd.google.colaboratory.intrinsic+json": {
              "type": "dataframe",
              "summary": "{\n  \"name\": \"df\",\n  \"rows\": 11,\n  \"fields\": [\n    {\n      \"column\": \"playlist_id\",\n      \"properties\": {\n        \"dtype\": \"number\",\n        \"std\": 3861739.6450427775,\n        \"min\": 1000.0,\n        \"max\": 11124977.0,\n        \"num_unique_values\": 8,\n        \"samples\": [\n          249665.6025584592,\n          251940.0,\n          11124977.0\n        ],\n        \"semantic_type\": \"\",\n        \"description\": \"\"\n      }\n    },\n    {\n      \"column\": \"playlist_name\",\n      \"properties\": {\n        \"dtype\": \"category\",\n        \"num_unique_values\": 4,\n        \"samples\": [\n          18989,\n          \"135674\",\n          \"11124977\"\n        ],\n        \"semantic_type\": \"\",\n        \"description\": \"\"\n      }\n    },\n    {\n      \"column\": \"track_pos\",\n      \"properties\": {\n        \"dtype\": \"number\",\n        \"std\": 3933248.8544821474,\n        \"min\": 0.0,\n        \"max\": 11124977.0,\n        \"num_unique_values\": 8,\n        \"samples\": [\n          53.813678626032214,\n          39.0,\n          11124977.0\n        ],\n        \"semantic_type\": \"\",\n        \"description\": \"\"\n      }\n    },\n    {\n      \"column\": \"track_uri\",\n      \"properties\": {\n        \"dtype\": \"category\",\n        \"num_unique_values\": 4,\n        \"samples\": [\n          909666,\n          \"7999\",\n          \"11124977\"\n        ],\n        \"semantic_type\": \"\",\n        \"description\": \"\"\n      }\n    },\n    {\n      \"column\": \"track_name\",\n      \"properties\": {\n        \"dtype\": \"category\",\n        \"num_unique_values\": 4,\n        \"samples\": [\n          615556,\n          \"11471\",\n          \"11124977\"\n        ],\n        \"semantic_type\": \"\",\n        \"description\": \"\"\n      }\n    },\n    {\n      \"column\": \"artist_name\",\n      \"properties\": {\n        \"dtype\": \"category\",\n        \"num_unique_values\": 4,\n        \"samples\": [\n          136255,\n          \"143929\",\n          \"11124977\"\n        ],\n        \"semantic_type\": \"\",\n        \"description\": \"\"\n      }\n    },\n    {\n      \"column\": \"album_name\",\n      \"properties\": {\n        \"dtype\": \"category\",\n        \"num_unique_values\": 4,\n        \"samples\": [\n          273234,\n          \"35422\",\n          \"11124977\"\n        ],\n        \"semantic_type\": \"\",\n        \"description\": \"\"\n      }\n    },\n    {\n      \"column\": \"duration_ms\",\n      \"properties\": {\n        \"dtype\": \"number\",\n        \"std\": 7412683.724365604,\n        \"min\": 0.0,\n        \"max\": 19672058.0,\n        \"num_unique_values\": 8,\n        \"samples\": [\n          235032.87325411997,\n          225205.0,\n          11124977.0\n        ],\n        \"semantic_type\": \"\",\n        \"description\": \"\"\n      }\n    },\n    {\n      \"column\": \"duration_min\",\n      \"properties\": {\n        \"dtype\": \"number\",\n        \"std\": 3933255.9432197786,\n        \"min\": 0.0,\n        \"max\": 11124977.0,\n        \"num_unique_values\": 8,\n        \"samples\": [\n          3.917214554235339,\n          3.753416666666667,\n          11124977.0\n        ],\n        \"semantic_type\": \"\",\n        \"description\": \"\"\n      }\n    }\n  ]\n}"
            }
          },
          "metadata": {},
          "execution_count": 18
        }
      ]
    },
    {
      "cell_type": "code",
      "source": [
        "df['duration_sec'] =df['duration_ms'] / 1000\n",
        "df['duration_sec'].describe()\n"
      ],
      "metadata": {
        "colab": {
          "base_uri": "https://localhost:8080/",
          "height": 335
        },
        "id": "4NB7nn5S5-NT",
        "outputId": "14ee1535-1979-423a-d7d4-460f9347d09c"
      },
      "execution_count": null,
      "outputs": [
        {
          "output_type": "execute_result",
          "data": {
            "text/plain": [
              "count    1.112498e+07\n",
              "mean     2.350329e+02\n",
              "std      7.630362e+01\n",
              "min      0.000000e+00\n",
              "25%      1.985820e+02\n",
              "50%      2.252050e+02\n",
              "75%      2.594570e+02\n",
              "max      1.967206e+04\n",
              "Name: duration_sec, dtype: float64"
            ],
            "text/html": [
              "<div>\n",
              "<style scoped>\n",
              "    .dataframe tbody tr th:only-of-type {\n",
              "        vertical-align: middle;\n",
              "    }\n",
              "\n",
              "    .dataframe tbody tr th {\n",
              "        vertical-align: top;\n",
              "    }\n",
              "\n",
              "    .dataframe thead th {\n",
              "        text-align: right;\n",
              "    }\n",
              "</style>\n",
              "<table border=\"1\" class=\"dataframe\">\n",
              "  <thead>\n",
              "    <tr style=\"text-align: right;\">\n",
              "      <th></th>\n",
              "      <th>duration_sec</th>\n",
              "    </tr>\n",
              "  </thead>\n",
              "  <tbody>\n",
              "    <tr>\n",
              "      <th>count</th>\n",
              "      <td>1.112498e+07</td>\n",
              "    </tr>\n",
              "    <tr>\n",
              "      <th>mean</th>\n",
              "      <td>2.350329e+02</td>\n",
              "    </tr>\n",
              "    <tr>\n",
              "      <th>std</th>\n",
              "      <td>7.630362e+01</td>\n",
              "    </tr>\n",
              "    <tr>\n",
              "      <th>min</th>\n",
              "      <td>0.000000e+00</td>\n",
              "    </tr>\n",
              "    <tr>\n",
              "      <th>25%</th>\n",
              "      <td>1.985820e+02</td>\n",
              "    </tr>\n",
              "    <tr>\n",
              "      <th>50%</th>\n",
              "      <td>2.252050e+02</td>\n",
              "    </tr>\n",
              "    <tr>\n",
              "      <th>75%</th>\n",
              "      <td>2.594570e+02</td>\n",
              "    </tr>\n",
              "    <tr>\n",
              "      <th>max</th>\n",
              "      <td>1.967206e+04</td>\n",
              "    </tr>\n",
              "  </tbody>\n",
              "</table>\n",
              "</div><br><label><b>dtype:</b> float64</label>"
            ]
          },
          "metadata": {},
          "execution_count": 19
        }
      ]
    },
    {
      "cell_type": "code",
      "source": [
        "# Top 10 artists\n",
        "print(df['artist_name'].value_counts().head(10))\n",
        "\n",
        "# Top 10 albums\n",
        "print(df['album_name'].value_counts().head(10))\n",
        "\n",
        "# Top 10 tracks\n",
        "print(df['track_name'].value_counts().head(10))\n"
      ],
      "metadata": {
        "colab": {
          "base_uri": "https://localhost:8080/"
        },
        "id": "1221SZucS0ZX",
        "outputId": "30af01e7-d81c-438c-f4f0-165aa468ba1e"
      },
      "execution_count": null,
      "outputs": [
        {
          "output_type": "stream",
          "name": "stdout",
          "text": [
            "artist_name\n",
            "drake             143929\n",
            "kanye west         70686\n",
            "kendrick lamar     60263\n",
            "rihanna            58102\n",
            "the weeknd         53679\n",
            "eminem             51992\n",
            "ed sheeran         45151\n",
            "future             42325\n",
            "j. cole            41532\n",
            "justin bieber      41134\n",
            "Name: count, dtype: int64\n",
            "album_name\n",
            "views                        35422\n",
            "stoney                       27156\n",
            "greatest hits                25080\n",
            "damn.                        24084\n",
            "more life                    23730\n",
            "beauty behind the madness    23184\n",
            "coloring book                22919\n",
            "culture                      20207\n",
            "american teen                20172\n",
            "the life of pablo            19305\n",
            "Name: count, dtype: int64\n",
            "track_name\n",
            "closer                         11471\n",
            "home                            8501\n",
            "humble.                         8021\n",
            "one dance                       7490\n",
            "roses                           7437\n",
            "congratulations                 7277\n",
            "broccoli (feat. lil yachty)     7015\n",
            "ride                            6810\n",
            "let me love you                 6796\n",
            "forever                         6410\n",
            "Name: count, dtype: int64\n"
          ]
        }
      ]
    },
    {
      "cell_type": "code",
      "source": [
        "import matplotlib.pyplot as plt\n",
        "import seaborn as sns"
      ],
      "metadata": {
        "id": "RQ_1zb9ITDYn"
      },
      "execution_count": null,
      "outputs": []
    },
    {
      "cell_type": "code",
      "source": [
        "correlation = df[['playlist_id', 'track_pos', 'duration_ms']].corr()\n",
        "\n",
        "plt.figure(figsize=(8, 6))\n",
        "sns.heatmap(correlation, annot=True, cmap='coolwarm', fmt=\".2f\")\n",
        "plt.title(\"Correlation Heatmap\")\n",
        "plt.show()\n"
      ],
      "metadata": {
        "colab": {
          "base_uri": "https://localhost:8080/",
          "height": 545
        },
        "id": "DR2uYj0OS-FH",
        "outputId": "485709de-2067-4789-943c-5f231914b313"
      },
      "execution_count": null,
      "outputs": [
        {
          "output_type": "display_data",
          "data": {
            "text/plain": [
              "<Figure size 800x600 with 2 Axes>"
            ],
            "image/png": "[encoded data removed]"
          },
          "metadata": {}
        }
      ]
    },
    {
      "cell_type": "markdown",
      "source": [
        "##Feature Eng"
      ],
      "metadata": {
        "id": "nX8doJvsUs0C"
      }
    },
    {
      "cell_type": "code",
      "source": [
        "categorical_columns = ['playlist_name', 'track_name', 'artist_name', 'album_name']\n"
      ],
      "metadata": {
        "id": "2vm7yq1FU4OA"
      },
      "execution_count": null,
      "outputs": []
    },
    {
      "cell_type": "code",
      "source": [
        "# Frequency Encoding\n",
        "for col in categorical_columns:\n",
        "    freq_encoding = df[col].value_counts().to_dict()\n",
        "    df[col + '_freq'] = df[col].map(freq_encoding)\n"
      ],
      "metadata": {
        "id": "6noEfUh7VCz8"
      },
      "execution_count": null,
      "outputs": []
    },
    {
      "cell_type": "code",
      "source": [
        "df.to_csv('/content/drive/MyDrive/m.tech_cv_project/processed_chunks/all_playlists_encoded.csv', index=False)\n"
      ],
      "metadata": {
        "id": "1KbjF373VNne"
      },
      "execution_count": null,
      "outputs": []
    },
    {
      "cell_type": "markdown",
      "source": [
        "##✅ Why Collaborative Filtering?\n",
        "Collaborative filtering relies on user-item interactions—like playlists and tracks—to make recommendations. Since your dataset doesn't contain text (e.g., lyrics or track descriptions), and only includes user behavior (which track is in which playlist), collaborative filtering is a strong fit."
      ],
      "metadata": {
        "id": "kkbDnIgfYyDv"
      }
    },
    {
      "cell_type": "code",
      "source": [
        "import pandas as pd\n",
        "\n",
        "# Load the encoded dataset\n",
        "df = pd.read_csv('/content/drive/MyDrive/m.tech_cv_project/processed_chunks/all_playlists_encoded.csv')\n",
        "df.head()"
      ],
      "metadata": {
        "colab": {
          "base_uri": "https://localhost:8080/",
          "height": 573
        },
        "id": "AceQ1e98Y3dv",
        "outputId": "ef558837-5e4a-4b73-e0dc-7927879d8d2f"
      },
      "execution_count": null,
      "outputs": [
        {
          "output_type": "execute_result",
          "data": {
            "text/plain": [
              "   playlist_id playlist_name  track_pos                             track_uri  \\\n",
              "0         1000        disney          0  spotify:track:5IbCV9Icebx8rR6wAp5hhP   \n",
              "1         1000        disney          1  spotify:track:6rKVAvjHcxAzZ1BHtwh5yC   \n",
              "2         1000        disney          2  spotify:track:6Jlkb1Wh08RYHstWScsTvg   \n",
              "3         1000        disney          3  spotify:track:0XhC8bfStML9ygBmfOt1JJ   \n",
              "4         1000        disney          4  spotify:track:0ABxAcsRWlqckkyONsfP67   \n",
              "\n",
              "                                          track_name  \\\n",
              "0            fathoms below - broadway cast recording   \n",
              "1      daughters of triton - broadway cast recording   \n",
              "2          the world above - broadway cast recording   \n",
              "3              human stuff - broadway cast recording   \n",
              "4  i want the good times back - broadway cast rec...   \n",
              "\n",
              "                                   artist_name  \\\n",
              "0  original broadway cast - the little mermaid   \n",
              "1  original broadway cast - the little mermaid   \n",
              "2  original broadway cast - the little mermaid   \n",
              "3  original broadway cast - the little mermaid   \n",
              "4  original broadway cast - the little mermaid   \n",
              "\n",
              "                                          album_name  duration_ms  \\\n",
              "0  the little mermaid: original broadway cast rec...       154506   \n",
              "1  the little mermaid: original broadway cast rec...        79066   \n",
              "2  the little mermaid: original broadway cast rec...        94600   \n",
              "3  the little mermaid: original broadway cast rec...       151480   \n",
              "4  the little mermaid: original broadway cast rec...       297920   \n",
              "\n",
              "   duration_min  duration_sec  playlist_name_freq  track_name_freq  \\\n",
              "0      2.575100       154.506               35174                6   \n",
              "1      1.317767        79.066               35174                6   \n",
              "2      1.576667        94.600               35174               15   \n",
              "3      2.524667       151.480               35174                7   \n",
              "4      4.965333       297.920               35174               10   \n",
              "\n",
              "   artist_name_freq  album_name_freq  \n",
              "0               287              365  \n",
              "1               287              365  \n",
              "2               287              365  \n",
              "3               287              365  \n",
              "4               287              365  "
            ],
            "text/html": [
              "\n",
              "  <div id=\"df-9eb9ac4f-5587-4ea1-88e2-f63390aaaf08\" class=\"colab-df-container\">\n",
              "    <div>\n",
              "<style scoped>\n",
              "    .dataframe tbody tr th:only-of-type {\n",
              "        vertical-align: middle;\n",
              "    }\n",
              "\n",
              "    .dataframe tbody tr th {\n",
              "        vertical-align: top;\n",
              "    }\n",
              "\n",
              "    .dataframe thead th {\n",
              "        text-align: right;\n",
              "    }\n",
              "</style>\n",
              "<table border=\"1\" class=\"dataframe\">\n",
              "  <thead>\n",
              "    <tr style=\"text-align: right;\">\n",
              "      <th></th>\n",
              "      <th>playlist_id</th>\n",
              "      <th>playlist_name</th>\n",
              "      <th>track_pos</th>\n",
              "      <th>track_uri</th>\n",
              "      <th>track_name</th>\n",
              "      <th>artist_name</th>\n",
              "      <th>album_name</th>\n",
              "      <th>duration_ms</th>\n",
              "      <th>duration_min</th>\n",
              "      <th>duration_sec</th>\n",
              "      <th>playlist_name_freq</th>\n",
              "      <th>track_name_freq</th>\n",
              "      <th>artist_name_freq</th>\n",
              "      <th>album_name_freq</th>\n",
              "    </tr>\n",
              "  </thead>\n",
              "  <tbody>\n",
              "    <tr>\n",
              "      <th>0</th>\n",
              "      <td>1000</td>\n",
              "      <td>disney</td>\n",
              "      <td>0</td>\n",
              "      <td>spotify:track:5IbCV9Icebx8rR6wAp5hhP</td>\n",
              "      <td>fathoms below - broadway cast recording</td>\n",
              "      <td>original broadway cast - the little mermaid</td>\n",
              "      <td>the little mermaid: original broadway cast rec...</td>\n",
              "      <td>154506</td>\n",
              "      <td>2.575100</td>\n",
              "      <td>154.506</td>\n",
              "      <td>35174</td>\n",
              "      <td>6</td>\n",
              "      <td>287</td>\n",
              "      <td>365</td>\n",
              "    </tr>\n",
              "    <tr>\n",
              "      <th>1</th>\n",
              "      <td>1000</td>\n",
              "      <td>disney</td>\n",
              "      <td>1</td>\n",
              "      <td>spotify:track:6rKVAvjHcxAzZ1BHtwh5yC</td>\n",
              "      <td>daughters of triton - broadway cast recording</td>\n",
              "      <td>original broadway cast - the little mermaid</td>\n",
              "      <td>the little mermaid: original broadway cast rec...</td>\n",
              "      <td>79066</td>\n",
              "      <td>1.317767</td>\n",
              "      <td>79.066</td>\n",
              "      <td>35174</td>\n",
              "      <td>6</td>\n",
              "      <td>287</td>\n",
              "      <td>365</td>\n",
              "    </tr>\n",
              "    <tr>\n",
              "      <th>2</th>\n",
              "      <td>1000</td>\n",
              "      <td>disney</td>\n",
              "      <td>2</td>\n",
              "      <td>spotify:track:6Jlkb1Wh08RYHstWScsTvg</td>\n",
              "      <td>the world above - broadway cast recording</td>\n",
              "      <td>original broadway cast - the little mermaid</td>\n",
              "      <td>the little mermaid: original broadway cast rec...</td>\n",
              "      <td>94600</td>\n",
              "      <td>1.576667</td>\n",
              "      <td>94.600</td>\n",
              "      <td>35174</td>\n",
              "      <td>15</td>\n",
              "      <td>287</td>\n",
              "      <td>365</td>\n",
              "    </tr>\n",
              "    <tr>\n",
              "      <th>3</th>\n",
              "      <td>1000</td>\n",
              "      <td>disney</td>\n",
              "      <td>3</td>\n",
              "      <td>spotify:track:0XhC8bfStML9ygBmfOt1JJ</td>\n",
              "      <td>human stuff - broadway cast recording</td>\n",
              "      <td>original broadway cast - the little mermaid</td>\n",
              "      <td>the little mermaid: original broadway cast rec...</td>\n",
              "      <td>151480</td>\n",
              "      <td>2.524667</td>\n",
              "      <td>151.480</td>\n",
              "      <td>35174</td>\n",
              "      <td>7</td>\n",
              "      <td>287</td>\n",
              "      <td>365</td>\n",
              "    </tr>\n",
              "    <tr>\n",
              "      <th>4</th>\n",
              "      <td>1000</td>\n",
              "      <td>disney</td>\n",
              "      <td>4</td>\n",
              "      <td>spotify:track:0ABxAcsRWlqckkyONsfP67</td>\n",
              "      <td>i want the good times back - broadway cast rec...</td>\n",
              "      <td>original broadway cast - the little mermaid</td>\n",
              "      <td>the little mermaid: original broadway cast rec...</td>\n",
              "      <td>297920</td>\n",
              "      <td>4.965333</td>\n",
              "      <td>297.920</td>\n",
              "      <td>35174</td>\n",
              "      <td>10</td>\n",
              "      <td>287</td>\n",
              "      <td>365</td>\n",
              "    </tr>\n",
              "  </tbody>\n",
              "</table>\n",
              "</div>\n",
              "    <div class=\"colab-df-buttons\">\n",
              "\n",
              "  <div class=\"colab-df-container\">\n",
              "    <button class=\"colab-df-convert\" onclick=\"convertToInteractive('df-9eb9ac4f-5587-4ea1-88e2-f63390aaaf08')\"\n",
              "            title=\"Convert this dataframe to an interactive table.\"\n",
              "            style=\"display:none;\">\n",
              "\n",
              "  <svg xmlns=\"http://www.w3.org/2000/svg\" height=\"24px\" viewBox=\"0 -960 960 960\">\n",
              "    <path d=\"M120-120v-720h720v720H120Zm60-500h600v-160H180v160Zm220 220h160v-160H400v160Zm0 220h160v-160H400v160ZM180-400h160v-160H180v160Zm440 0h160v-160H620v160ZM180-180h160v-160H180v160Zm440 0h160v-160H620v160Z\"/>\n",
              "  </svg>\n",
              "    </button>\n",
              "\n",
              "  <style>\n",
              "    .colab-df-container {\n",
              "      display:flex;\n",
              "      gap: 12px;\n",
              "    }\n",
              "\n",
              "    .colab-df-convert {\n",
              "      background-color: #E8F0FE;\n",
              "      border: none;\n",
              "      border-radius: 50%;\n",
              "      cursor: pointer;\n",
              "      display: none;\n",
              "      fill: #1967D2;\n",
              "      height: 32px;\n",
              "      padding: 0 0 0 0;\n",
              "      width: 32px;\n",
              "    }\n",
              "\n",
              "    .colab-df-convert:hover {\n",
              "      background-color: #E2EBFA;\n",
              "      box-shadow: 0px 1px 2px rgba(60, 64, 67, 0.3), 0px 1px 3px 1px rgba(60, 64, 67, 0.15);\n",
              "      fill: #174EA6;\n",
              "    }\n",
              "\n",
              "    .colab-df-buttons div {\n",
              "      margin-bottom: 4px;\n",
              "    }\n",
              "\n",
              "    [theme=dark] .colab-df-convert {\n",
              "      background-color: #3B4455;\n",
              "      fill: #D2E3FC;\n",
              "    }\n",
              "\n",
              "    [theme=dark] .colab-df-convert:hover {\n",
              "      background-color: #434B5C;\n",
              "      box-shadow: 0px 1px 3px 1px rgba(0, 0, 0, 0.15);\n",
              "      filter: drop-shadow(0px 1px 2px rgba(0, 0, 0, 0.3));\n",
              "      fill: #FFFFFF;\n",
              "    }\n",
              "  </style>\n",
              "\n",
              "    <script>\n",
              "      const buttonEl =\n",
              "        document.querySelector('#df-9eb9ac4f-5587-4ea1-88e2-f63390aaaf08 button.colab-df-convert');\n",
              "      buttonEl.style.display =\n",
              "        google.colab.kernel.accessAllowed ? 'block' : 'none';\n",
              "\n",
              "      async function convertToInteractive(key) {\n",
              "        const element = document.querySelector('#df-9eb9ac4f-5587-4ea1-88e2-f63390aaaf08');\n",
              "        const dataTable =\n",
              "          await google.colab.kernel.invokeFunction('convertToInteractive',\n",
              "                                                    [key], {});\n",
              "        if (!dataTable) return;\n",
              "\n",
              "        const docLinkHtml = 'Like what you see? Visit the ' +\n",
              "          '<a target=\"_blank\" href=https://colab.research.google.com/notebooks/data_table.ipynb>data table notebook</a>'\n",
              "          + ' to learn more about interactive tables.';\n",
              "        element.innerHTML = '';\n",
              "        dataTable['output_type'] = 'display_data';\n",
              "        await google.colab.output.renderOutput(dataTable, element);\n",
              "        const docLink = document.createElement('div');\n",
              "        docLink.innerHTML = docLinkHtml;\n",
              "        element.appendChild(docLink);\n",
              "      }\n",
              "    </script>\n",
              "  </div>\n",
              "\n",
              "\n",
              "<div id=\"df-c6676f9c-2db2-4e50-8340-bd8900fb734a\">\n",
              "  <button class=\"colab-df-quickchart\" onclick=\"quickchart('df-c6676f9c-2db2-4e50-8340-bd8900fb734a')\"\n",
              "            title=\"Suggest charts\"\n",
              "            style=\"display:none;\">\n",
              "\n",
              "<svg xmlns=\"http://www.w3.org/2000/svg\" height=\"24px\"viewBox=\"0 0 24 24\"\n",
              "     width=\"24px\">\n",
              "    <g>\n",
              "        <path d=\"M19 3H5c-1.1 0-2 .9-2 2v14c0 1.1.9 2 2 2h14c1.1 0 2-.9 2-2V5c0-1.1-.9-2-2-2zM9 17H7v-7h2v7zm4 0h-2V7h2v10zm4 0h-2v-4h2v4z\"/>\n",
              "    </g>\n",
              "</svg>\n",
              "  </button>\n",
              "\n",
              "<style>\n",
              "  .colab-df-quickchart {\n",
              "      --bg-color: #E8F0FE;\n",
              "      --fill-color: #1967D2;\n",
              "      --hover-bg-color: #E2EBFA;\n",
              "      --hover-fill-color: #174EA6;\n",
              "      --disabled-fill-color: #AAA;\n",
              "      --disabled-bg-color: #DDD;\n",
              "  }\n",
              "\n",
              "  [theme=dark] .colab-df-quickchart {\n",
              "      --bg-color: #3B4455;\n",
              "      --fill-color: #D2E3FC;\n",
              "      --hover-bg-color: #434B5C;\n",
              "      --hover-fill-color: #FFFFFF;\n",
              "      --disabled-bg-color: #3B4455;\n",
              "      --disabled-fill-color: #666;\n",
              "  }\n",
              "\n",
              "  .colab-df-quickchart {\n",
              "    background-color: var(--bg-color);\n",
              "    border: none;\n",
              "    border-radius: 50%;\n",
              "    cursor: pointer;\n",
              "    display: none;\n",
              "    fill: var(--fill-color);\n",
              "    height: 32px;\n",
              "    padding: 0;\n",
              "    width: 32px;\n",
              "  }\n",
              "\n",
              "  .colab-df-quickchart:hover {\n",
              "    background-color: var(--hover-bg-color);\n",
              "    box-shadow: 0 1px 2px rgba(60, 64, 67, 0.3), 0 1px 3px 1px rgba(60, 64, 67, 0.15);\n",
              "    fill: var(--button-hover-fill-color);\n",
              "  }\n",
              "\n",
              "  .colab-df-quickchart-complete:disabled,\n",
              "  .colab-df-quickchart-complete:disabled:hover {\n",
              "    background-color: var(--disabled-bg-color);\n",
              "    fill: var(--disabled-fill-color);\n",
              "    box-shadow: none;\n",
              "  }\n",
              "\n",
              "  .colab-df-spinner {\n",
              "    border: 2px solid var(--fill-color);\n",
              "    border-color: transparent;\n",
              "    border-bottom-color: var(--fill-color);\n",
              "    animation:\n",
              "      spin 1s steps(1) infinite;\n",
              "  }\n",
              "\n",
              "  @keyframes spin {\n",
              "    0% {\n",
              "      border-color: transparent;\n",
              "      border-bottom-color: var(--fill-color);\n",
              "      border-left-color: var(--fill-color);\n",
              "    }\n",
              "    20% {\n",
              "      border-color: transparent;\n",
              "      border-left-color: var(--fill-color);\n",
              "      border-top-color: var(--fill-color);\n",
              "    }\n",
              "    30% {\n",
              "      border-color: transparent;\n",
              "      border-left-color: var(--fill-color);\n",
              "      border-top-color: var(--fill-color);\n",
              "      border-right-color: var(--fill-color);\n",
              "    }\n",
              "    40% {\n",
              "      border-color: transparent;\n",
              "      border-right-color: var(--fill-color);\n",
              "      border-top-color: var(--fill-color);\n",
              "    }\n",
              "    60% {\n",
              "      border-color: transparent;\n",
              "      border-right-color: var(--fill-color);\n",
              "    }\n",
              "    80% {\n",
              "      border-color: transparent;\n",
              "      border-right-color: var(--fill-color);\n",
              "      border-bottom-color: var(--fill-color);\n",
              "    }\n",
              "    90% {\n",
              "      border-color: transparent;\n",
              "      border-bottom-color: var(--fill-color);\n",
              "    }\n",
              "  }\n",
              "</style>\n",
              "\n",
              "  <script>\n",
              "    async function quickchart(key) {\n",
              "      const quickchartButtonEl =\n",
              "        document.querySelector('#' + key + ' button');\n",
              "      quickchartButtonEl.disabled = true;  // To prevent multiple clicks.\n",
              "      quickchartButtonEl.classList.add('colab-df-spinner');\n",
              "      try {\n",
              "        const charts = await google.colab.kernel.invokeFunction(\n",
              "            'suggestCharts', [key], {});\n",
              "      } catch (error) {\n",
              "        console.error('Error during call to suggestCharts:', error);\n",
              "      }\n",
              "      quickchartButtonEl.classList.remove('colab-df-spinner');\n",
              "      quickchartButtonEl.classList.add('colab-df-quickchart-complete');\n",
              "    }\n",
              "    (() => {\n",
              "      let quickchartButtonEl =\n",
              "        document.querySelector('#df-c6676f9c-2db2-4e50-8340-bd8900fb734a button');\n",
              "      quickchartButtonEl.style.display =\n",
              "        google.colab.kernel.accessAllowed ? 'block' : 'none';\n",
              "    })();\n",
              "  </script>\n",
              "</div>\n",
              "\n",
              "    </div>\n",
              "  </div>\n"
            ],
            "application/vnd.google.colaboratory.intrinsic+json": {
              "type": "dataframe",
              "variable_name": "df"
            }
          },
          "metadata": {},
          "execution_count": 2
        }
      ]
    },
    {
      "cell_type": "code",
      "source": [
        "df.shape"
      ],
      "metadata": {
        "colab": {
          "base_uri": "https://localhost:8080/"
        },
        "id": "rQkzfWCe2AwV",
        "outputId": "0176721d-72fc-4388-a5b9-e4916255060a"
      },
      "execution_count": null,
      "outputs": [
        {
          "output_type": "execute_result",
          "data": {
            "text/plain": [
              "(11124977, 14)"
            ]
          },
          "metadata": {},
          "execution_count": 2
        }
      ]
    },
    {
      "cell_type": "markdown",
      "source": [
        "##Smart Sampling Strategies\n",
        "Create a Stratified Sample (Recommended)"
      ],
      "metadata": {
        "id": "1GjTxv_Z7sYF"
      }
    },
    {
      "cell_type": "code",
      "source": [
        "import pandas as pd\n",
        "from sklearn.model_selection import train_test_split\n",
        "\n",
        "# Load full dataset\n",
        "df = pd.read_csv(\"/content/drive/MyDrive/m.tech_cv_project/processed_chunks/all_playlists_encoded.csv\")  # replace with your actual filename\n",
        "\n",
        "\n",
        "# Set how many rows to take per playlist\n",
        "N = 3  # You can increase this (e.g., 5 or 10)\n",
        "\n",
        "# Group by playlist and take up to N rows per playlist\n",
        "sample_df = df.groupby('playlist_id').apply(lambda x: x.sample(n=min(len(x), N), random_state=42))\n",
        "\n",
        "# Reset index\n",
        "sample_df.reset_index(drop=True, inplace=True)\n",
        "\n",
        "# Check sample size\n",
        "print(\"Sample size:\", sample_df.shape)\n",
        "\n",
        "# Save it for further work\n",
        "sample_df.to_csv(\"balanced_playlist_sample.csv\", index=False)\n"
      ],
      "metadata": {
        "colab": {
          "base_uri": "https://localhost:8080/"
        },
        "id": "krxpIHVpDlmG",
        "outputId": "92bac3a9-e916-424b-f0e3-8e2019e48b79"
      },
      "execution_count": null,
      "outputs": [
        {
          "output_type": "stream",
          "name": "stderr",
          "text": [
            "<ipython-input-2-9a054fc2b3c7>:12: DeprecationWarning: DataFrameGroupBy.apply operated on the grouping columns. This behavior is deprecated, and in a future version of pandas the grouping columns will be excluded from the operation. Either pass `include_groups=False` to exclude the groupings or explicitly select the grouping columns after groupby to silence this warning.\n",
            "  sample_df = df.groupby('playlist_id').apply(lambda x: x.sample(n=min(len(x), N), random_state=42))\n"
          ]
        },
        {
          "output_type": "stream",
          "name": "stdout",
          "text": [
            "Sample size: (509991, 14)\n"
          ]
        }
      ]
    },
    {
      "cell_type": "code",
      "source": [
        "from sklearn.model_selection import train_test_split\n",
        "\n",
        "# Assuming 'sample_df' is your final dataframe with the stratified sample\n",
        "\n",
        "# Split the data into train and test sets (80% training, 20% testing)\n",
        "train_df, test_df = train_test_split(sample_df, test_size=0.2, random_state=42)\n",
        "\n",
        "# Check the shapes of the splits\n",
        "print(f\"Training data size: {train_df.shape}\")\n",
        "print(f\"Testing data size: {test_df.shape}\")\n",
        "\n",
        "# Save the splits for further steps\n",
        "train_df.to_csv(\"train_sample.csv\", index=False)\n",
        "test_df.to_csv(\"test_sample.csv\", index=False)\n"
      ],
      "metadata": {
        "colab": {
          "base_uri": "https://localhost:8080/"
        },
        "id": "2hyzRC2XS5Rf",
        "outputId": "54b388c9-2313-4f90-f0f2-9b5e191bcbc8"
      },
      "execution_count": null,
      "outputs": [
        {
          "output_type": "stream",
          "name": "stdout",
          "text": [
            "Training data size: (407992, 14)\n",
            "Testing data size: (101999, 14)\n"
          ]
        }
      ]
    },
    {
      "cell_type": "markdown",
      "source": [
        "##Prepare Sparse Matrix for Collaborative Filtering"
      ],
      "metadata": {
        "id": "g7chNjdX91Uv"
      }
    },
    {
      "cell_type": "markdown",
      "source": [
        "It’s a compressed matrix that represents the relationship between:\n",
        "\n",
        "Users (in your case: playlist_id)\n",
        "\n",
        "Items (in your case: track_uri)\n",
        "\n",
        "Interactions (like listening, liking, adding to playlist)"
      ],
      "metadata": {
        "id": "EQPA91LtOGgc"
      }
    },
    {
      "cell_type": "code",
      "source": [
        "from scipy.sparse import coo_matrix\n",
        "from sklearn.preprocessing import LabelEncoder\n",
        "import numpy as np\n",
        "\n",
        "# Encode playlist_id and track_uri as integer indices\n",
        "playlist_encoder = LabelEncoder()\n",
        "track_encoder = LabelEncoder()\n",
        "\n",
        "playlist_ids = playlist_encoder.fit_transform(sample_df['playlist_id'])\n",
        "track_ids = track_encoder.fit_transform(sample_df['track_uri'])\n",
        "\n",
        "# Create interaction matrix in sparse format\n",
        "data = np.ones(len(sample_df))  # assuming binary interaction\n",
        "\n",
        "interaction_sparse_matrix = coo_matrix(\n",
        "    (data, (playlist_ids, track_ids))\n",
        ")\n",
        "\n",
        "print(interaction_sparse_matrix.shape)\n",
        "print(f\"Sparse matrix density: {interaction_sparse_matrix.nnz / (interaction_sparse_matrix.shape[0] * interaction_sparse_matrix.shape[1]):.6f}\")\n"
      ],
      "metadata": {
        "colab": {
          "base_uri": "https://localhost:8080/"
        },
        "id": "XzRd1ZaWMxf_",
        "outputId": "2ffa230f-8120-4ba4-cf39-fede1e701185"
      },
      "execution_count": null,
      "outputs": [
        {
          "output_type": "stream",
          "name": "stdout",
          "text": [
            "(169997, 143689)\n",
            "Sparse matrix density: 0.000021\n"
          ]
        }
      ]
    },
    {
      "cell_type": "markdown",
      "source": [
        "##Build Recommender with Implicit ALS"
      ],
      "metadata": {
        "id": "OOoRbas0PVpl"
      }
    },
    {
      "cell_type": "code",
      "source": [
        "pip install implicit\n"
      ],
      "metadata": {
        "colab": {
          "base_uri": "https://localhost:8080/"
        },
        "id": "WiZ_AKAIPX-G",
        "outputId": "ff836e97-c4b1-42e1-a1e0-ead3bfe9f3a8"
      },
      "execution_count": null,
      "outputs": [
        {
          "output_type": "stream",
          "name": "stdout",
          "text": [
            "Requirement already satisfied: implicit in /usr/local/lib/python3.11/dist-packages (0.7.2)\n",
            "Requirement already satisfied: numpy>=1.17.0 in /usr/local/lib/python3.11/dist-packages (from implicit) (2.0.2)\n",
            "Requirement already satisfied: scipy>=0.16 in /usr/local/lib/python3.11/dist-packages (from implicit) (1.14.1)\n",
            "Requirement already satisfied: tqdm>=4.27 in /usr/local/lib/python3.11/dist-packages (from implicit) (4.67.1)\n",
            "Requirement already satisfied: threadpoolctl in /usr/local/lib/python3.11/dist-packages (from implicit) (3.6.0)\n"
          ]
        }
      ]
    },
    {
      "cell_type": "code",
      "source": [
        "import implicit\n",
        "from scipy.sparse import coo_matrix\n"
      ],
      "metadata": {
        "id": "NmosIZapPeNy"
      },
      "execution_count": null,
      "outputs": []
    },
    {
      "cell_type": "code",
      "source": [
        "from scipy.sparse import csr_matrix\n",
        "\n",
        "# ALS requires CSR format\n",
        "interaction_matrix_csr = interaction_sparse_matrix.tocsr()\n",
        "(print(interaction_matrix_csr.shape))\n",
        "print(\"Matrix shape:\", interaction_matrix_csr.shape)\n",
        "print(\"Playlist internal ID:\", playlist_internal_id)\n",
        "print(type(playlist_internal_id), playlist_internal_id)\n",
        "\n"
      ],
      "metadata": {
        "colab": {
          "base_uri": "https://localhost:8080/"
        },
        "id": "_e1EwtH8PiA-",
        "outputId": "d6be0875-608b-431c-e256-f79b85de371a"
      },
      "execution_count": null,
      "outputs": [
        {
          "output_type": "stream",
          "name": "stdout",
          "text": [
            "(169997, 143689)\n",
            "Matrix shape: (169997, 143689)\n",
            "Playlist internal ID: 0\n",
            "<class 'numpy.int64'> 0\n"
          ]
        }
      ]
    },
    {
      "cell_type": "markdown",
      "source": [
        "##Train the ALS Model"
      ],
      "metadata": {
        "id": "xP1hvpR6Pp1r"
      }
    },
    {
      "cell_type": "code",
      "source": [
        "from implicit.als import AlternatingLeastSquares\n",
        "\n",
        "# Initialize model\n",
        "model = AlternatingLeastSquares(\n",
        "    factors=64,  # latent features\n",
        "    regularization=0.1,\n",
        "    iterations=20,\n",
        "    random_state=42\n",
        ")\n",
        "\n",
        "# Fit the model\n",
        "# Note: ALS expects item-user matrix, so we transpose it\n",
        "model.fit(interaction_sparse_matrix.T)\n"
      ],
      "metadata": {
        "colab": {
          "base_uri": "https://localhost:8080/",
          "height": 104,
          "referenced_widgets": [
            "8f7a328407fd42b6a49f718f960ba524",
            "60586f91ca4747d19959f615efb1cb48",
            "df69ae190c56438b85698b10633bc650",
            "f38050bf4ed445bfb3e679020fa33644",
            "5f01fb45319242ef81db592c863aa17a",
            "a355fb6bb77b4f6b8b2464b98901e8dc",
            "132e4ea0706841798e0134cb64945cac",
            "ac030287823b491db98d722a0c5939f6",
            "89680d58dc5448f18e45df24a862490f",
            "40dc393a63b344a6b6bdaac8864e8dd2",
            "4d8678264624450ebe08c720b0f9e74e"
          ]
        },
        "id": "szI4XhiAPsIj",
        "outputId": "269ca2a0-0aff-4c9d-a71a-da1770a99905"
      },
      "execution_count": null,
      "outputs": [
        {
          "output_type": "stream",
          "name": "stderr",
          "text": [
            "/usr/local/lib/python3.11/dist-packages/implicit/utils.py:164: ParameterWarning: Method expects CSR input, and was passed coo_matrix instead. Converting to CSR took 0.03653144836425781 seconds\n",
            "  warnings.warn(\n"
          ]
        },
        {
          "output_type": "display_data",
          "data": {
            "text/plain": [
              "  0%|          | 0/20 [00:00<?, ?it/s]"
            ],
            "application/vnd.jupyter.widget-view+json": {
              "version_major": 2,
              "version_minor": 0,
              "model_id": "8f7a328407fd42b6a49f718f960ba524"
            }
          },
          "metadata": {}
        }
      ]
    },
    {
      "cell_type": "code",
      "source": [
        "from collections import defaultdict\n",
        "import random\n",
        "from scipy.sparse import lil_matrix\n",
        "\n",
        "# Ensure reproducibility\n",
        "random.seed(42)\n",
        "\n",
        "# Create empty training matrix and holdout dict\n",
        "train_matrix = lil_matrix(interaction_sparse_matrix.shape)\n",
        "test_holdout = defaultdict(list)\n",
        "\n",
        "# Convert the original matrix to LIL for efficient row access\n",
        "original_matrix = interaction_sparse_matrix.tolil()\n",
        "\n",
        "# Loop through each user (playlist)\n",
        "for playlist_id in range(original_matrix.shape[0]):\n",
        "    track_indices = original_matrix.rows[playlist_id]\n",
        "\n",
        "    if len(track_indices) > 1:\n",
        "        # Randomly hold out 1 track\n",
        "        held_out = random.choice(track_indices)\n",
        "        test_holdout[playlist_id].append(held_out)\n",
        "\n",
        "        # All others go to training\n",
        "        for item in track_indices:\n",
        "            if item != held_out:\n",
        "                train_matrix[playlist_id, item] = 1\n",
        "    else:\n",
        "        # If only 1 interaction, keep it in training\n",
        "        for item in track_indices:\n",
        "            train_matrix[playlist_id, item] = 1\n",
        "\n",
        "# Convert train matrix to CSR (required for ALS)\n",
        "train_matrix = train_matrix.tocsr()\n"
      ],
      "metadata": {
        "id": "HlJ6CeR4XmaH"
      },
      "execution_count": null,
      "outputs": []
    },
    {
      "cell_type": "code",
      "source": [
        "from implicit.als import AlternatingLeastSquares\n",
        "\n",
        "model = AlternatingLeastSquares(\n",
        "    factors=64,\n",
        "    regularization=0.1,\n",
        "    iterations=20,\n",
        "    random_state=42\n",
        ")\n",
        "\n",
        "model.fit(train_matrix.T)  # Transpose is required\n"
      ],
      "metadata": {
        "colab": {
          "base_uri": "https://localhost:8080/",
          "height": 104,
          "referenced_widgets": [
            "ab6d68fca6b64328a109e948a4571f4c",
            "6876130f024146d6a071cc3dd52df6d4",
            "f6563265448c4e9885964dff9a20b840",
            "4db4c85ef3ca4c91ad6e13f76cc66933",
            "80769ed4c89d4203b440d47958f98d2e",
            "1ab2bb8521224ed69a32c3d705eab42e",
            "e1d12c1692ba402fad875308286a9a8a",
            "13ba025b5747488585166d2e06abbcd2",
            "45a70a458ce84f7da2a9666b3fc975b2",
            "e4c3b60755894cd68f4f91333de2b2b5",
            "ea868b2e48fc4e1a8f02ac7f2fe74be0"
          ]
        },
        "id": "ImRbKLf6X2CQ",
        "outputId": "827c2fd2-a153-4695-d364-d6f8265e65b8"
      },
      "execution_count": null,
      "outputs": [
        {
          "output_type": "stream",
          "name": "stderr",
          "text": [
            "/usr/local/lib/python3.11/dist-packages/implicit/utils.py:164: ParameterWarning: Method expects CSR input, and was passed csc_matrix instead. Converting to CSR took 0.009146928787231445 seconds\n",
            "  warnings.warn(\n"
          ]
        },
        {
          "output_type": "display_data",
          "data": {
            "text/plain": [
              "  0%|          | 0/20 [00:00<?, ?it/s]"
            ],
            "application/vnd.jupyter.widget-view+json": {
              "version_major": 2,
              "version_minor": 0,
              "model_id": "ab6d68fca6b64328a109e948a4571f4c"
            }
          },
          "metadata": {}
        }
      ]
    },
    {
      "cell_type": "markdown",
      "source": [
        "##Make Recommendations"
      ],
      "metadata": {
        "id": "QnIJ8kvVP9WI"
      }
    },
    {
      "cell_type": "code",
      "source": [
        "from scipy.sparse import csr_matrix\n",
        "\n",
        "# Convert the sparse matrix to CSR format if not already\n",
        "interaction_matrix_csr = interaction_sparse_matrix.tocsr()\n",
        "\n",
        "# Pick a playlist (user) internal ID for recommendation\n",
        "# For example, pick a random playlist\n",
        "playlist_id = sample_df['playlist_id'].iloc[0]\n",
        "playlist_internal_id = int(playlist_encoder.transform([playlist_id])[0])\n",
        "\n",
        "# Get top-N recommendations\n",
        "N = 10\n",
        "recommendations = model.recommend(\n",
        "    userid=playlist_internal_id,\n",
        "    user_items=interaction_matrix_csr,\n",
        "    N=N,\n",
        "    filter_already_liked_items=True\n",
        ")\n",
        "\n",
        "# Decode track indices back to original URIs\n",
        "recommended_track_ids = [track_encoder.inverse_transform([track_id])[0] for track_id, _ in recommendations]\n",
        "\n",
        "print(\"Recommendations for playlist:\", playlist_id)\n",
        "print(recommended_track_ids)\n"
      ],
      "metadata": {
        "colab": {
          "base_uri": "https://localhost:8080/",
          "height": 349
        },
        "id": "E5Af4aHqP_Js",
        "outputId": "76d2289d-db12-43cc-cbff-8c3b0d063b8d"
      },
      "execution_count": null,
      "outputs": [
        {
          "output_type": "error",
          "ename": "ValueError",
          "evalue": "user_items must contain 1 row for every user in userids",
          "traceback": [
            "\u001b[0;31m---------------------------------------------------------------------------\u001b[0m",
            "\u001b[0;31mValueError\u001b[0m                                Traceback (most recent call last)",
            "\u001b[0;32m<ipython-input-22-fea203c52195>\u001b[0m in \u001b[0;36m<cell line: 0>\u001b[0;34m()\u001b[0m\n\u001b[1;32m     11\u001b[0m \u001b[0;31m# Get top-N recommendations\u001b[0m\u001b[0;34m\u001b[0m\u001b[0;34m\u001b[0m\u001b[0m\n\u001b[1;32m     12\u001b[0m \u001b[0mN\u001b[0m \u001b[0;34m=\u001b[0m \u001b[0;36m10\u001b[0m\u001b[0;34m\u001b[0m\u001b[0;34m\u001b[0m\u001b[0m\n\u001b[0;32m---> 13\u001b[0;31m recommendations = model.recommend(\n\u001b[0m\u001b[1;32m     14\u001b[0m     \u001b[0muserid\u001b[0m\u001b[0;34m=\u001b[0m\u001b[0mplaylist_internal_id\u001b[0m\u001b[0;34m,\u001b[0m\u001b[0;34m\u001b[0m\u001b[0;34m\u001b[0m\u001b[0m\n\u001b[1;32m     15\u001b[0m     \u001b[0muser_items\u001b[0m\u001b[0;34m=\u001b[0m\u001b[0minteraction_matrix_csr\u001b[0m\u001b[0;34m,\u001b[0m\u001b[0;34m\u001b[0m\u001b[0;34m\u001b[0m\u001b[0m\n",
            "\u001b[0;32m/usr/local/lib/python3.11/dist-packages/implicit/cpu/matrix_factorization_base.py\u001b[0m in \u001b[0;36mrecommend\u001b[0;34m(self, userid, user_items, N, filter_already_liked_items, filter_items, recalculate_user, items)\u001b[0m\n\u001b[1;32m     47\u001b[0m             \u001b[0muser_count\u001b[0m \u001b[0;34m=\u001b[0m \u001b[0;36m1\u001b[0m \u001b[0;32mif\u001b[0m \u001b[0mnp\u001b[0m\u001b[0;34m.\u001b[0m\u001b[0misscalar\u001b[0m\u001b[0;34m(\u001b[0m\u001b[0muserid\u001b[0m\u001b[0;34m)\u001b[0m \u001b[0;32melse\u001b[0m \u001b[0mlen\u001b[0m\u001b[0;34m(\u001b[0m\u001b[0muserid\u001b[0m\u001b[0;34m)\u001b[0m\u001b[0;34m\u001b[0m\u001b[0;34m\u001b[0m\u001b[0m\n\u001b[1;32m     48\u001b[0m             \u001b[0;32mif\u001b[0m \u001b[0muser_items\u001b[0m\u001b[0;34m.\u001b[0m\u001b[0mshape\u001b[0m\u001b[0;34m[\u001b[0m\u001b[0;36m0\u001b[0m\u001b[0;34m]\u001b[0m \u001b[0;34m!=\u001b[0m \u001b[0muser_count\u001b[0m\u001b[0;34m:\u001b[0m\u001b[0;34m\u001b[0m\u001b[0;34m\u001b[0m\u001b[0m\n\u001b[0;32m---> 49\u001b[0;31m                 \u001b[0;32mraise\u001b[0m \u001b[0mValueError\u001b[0m\u001b[0;34m(\u001b[0m\u001b[0;34m\"user_items must contain 1 row for every user in userids\"\u001b[0m\u001b[0;34m)\u001b[0m\u001b[0;34m\u001b[0m\u001b[0;34m\u001b[0m\u001b[0m\n\u001b[0m\u001b[1;32m     50\u001b[0m \u001b[0;34m\u001b[0m\u001b[0m\n\u001b[1;32m     51\u001b[0m         \u001b[0muser\u001b[0m \u001b[0;34m=\u001b[0m \u001b[0mself\u001b[0m\u001b[0;34m.\u001b[0m\u001b[0m_user_factor\u001b[0m\u001b[0;34m(\u001b[0m\u001b[0muserid\u001b[0m\u001b[0;34m,\u001b[0m \u001b[0muser_items\u001b[0m\u001b[0;34m,\u001b[0m \u001b[0mrecalculate_user\u001b[0m\u001b[0;34m)\u001b[0m\u001b[0;34m\u001b[0m\u001b[0;34m\u001b[0m\u001b[0m\n",
            "\u001b[0;31mValueError\u001b[0m: user_items must contain 1 row for every user in userids"
          ]
        }
      ]
    },
    {
      "cell_type": "code",
      "source": [
        "import re\n",
        "\n",
        "# Check if all URIs match Spotify's format\n",
        "valid_uris = df['track_uri'].str.match(r'^spotify:track:[a-zA-Z0-9]{22}$')\n",
        "invalid_uris = df[~valid_uris]\n",
        "\n",
        "print(f\"Invalid URIs found: {len(invalid_uris)}\")\n",
        "print(invalid_uris[['track_uri']].head() if len(invalid_uris) > 0 else \"All URIs are valid!\")"
      ],
      "metadata": {
        "colab": {
          "base_uri": "https://localhost:8080/"
        },
        "id": "fT17u6H3lYA-",
        "outputId": "f36ffad6-8e58-4c1c-ee5e-26d01664ed7d"
      },
      "execution_count": null,
      "outputs": [
        {
          "output_type": "stream",
          "name": "stdout",
          "text": [
            "Invalid URIs found: 0\n",
            "All URIs are valid!\n"
          ]
        }
      ]
    },
    {
      "cell_type": "markdown",
      "source": [
        "Prepare Data in Chunks"
      ],
      "metadata": {
        "id": "_Pt7_4h1TUd4"
      }
    },
    {
      "cell_type": "code",
      "source": [
        "import pandas as pd\n",
        "import numpy as np\n",
        "from scipy.sparse import lil_matrix, csr_matrix\n",
        "from sklearn.preprocessing import LabelEncoder\n",
        "\n",
        "# Load data in chunks\n",
        "chunk_size = 100000  # Adjust based on your RAM\n",
        "playlist_encoder = LabelEncoder()\n",
        "track_encoder = LabelEncoder()\n",
        "\n",
        "# First pass: Fit encoders to *all* unique IDs\n",
        "all_playlist_ids = []\n",
        "all_track_uris = []\n",
        "for chunk in pd.read_csv('/content/drive/MyDrive/m.tech_cv_project/processed_chunks/all_playlists_encoded.csv', chunksize=chunk_size):\n",
        "    all_playlist_ids.extend(chunk['playlist_id'].unique())\n",
        "    all_track_uris.extend(chunk['track_uri'].unique())\n",
        "\n",
        "# Fit encoders on all unique values\n",
        "playlist_encoder.fit(all_playlist_ids)\n",
        "track_encoder.fit(all_track_uris)\n",
        "\n",
        "# Get dimensions\n",
        "n_playlists = len(playlist_encoder.classes_)\n",
        "n_tracks = len(track_encoder.classes_)"
      ],
      "metadata": {
        "id": "Ymfr9hNLTUFw"
      },
      "execution_count": null,
      "outputs": []
    },
    {
      "cell_type": "markdown",
      "source": [
        "## Build Sparse Matrix in Chunks"
      ],
      "metadata": {
        "id": "hAeS2i6lTvIJ"
      }
    },
    {
      "cell_type": "code",
      "source": [
        "# Initialize LIL matrix (efficient for incremental building)\n",
        "interaction_sparse = lil_matrix((n_playlists, n_tracks), dtype=np.int8)\n",
        "\n",
        "for chunk in pd.read_csv('/content/drive/MyDrive/m.tech_cv_project/processed_chunks/all_playlists_encoded.csv', chunksize=chunk_size):\n",
        "    # Encode IDs to numerical indices\n",
        "    playlist_indices = playlist_encoder.transform(chunk['playlist_id'])\n",
        "    track_indices = track_encoder.transform(chunk['track_uri'])\n",
        "\n",
        "    # Fill matrix (1 = interaction exists)\n",
        "    for pl_idx, tr_idx in zip(playlist_indices, track_indices):\n",
        "        interaction_sparse[pl_idx, tr_idx] = 1\n",
        "\n",
        "# Convert to CSR format (optimized for arithmetic)\n",
        "interaction_csr = interaction_sparse.tocsr()\n",
        "print(f\"Final matrix shape: {interaction_csr.shape} (Playlists × Tracks)\")\n",
        "print(f\"Non-zero entries: {interaction_csr.nnz}\")"
      ],
      "metadata": {
        "colab": {
          "base_uri": "https://localhost:8080/"
        },
        "id": "L8HELSIcTydJ",
        "outputId": "6cf30510-bc34-42c1-cfc5-2b0ee4ef2e53"
      },
      "execution_count": null,
      "outputs": [
        {
          "output_type": "stream",
          "name": "stdout",
          "text": [
            "Final matrix shape: (169997, 909666) (Playlists × Tracks)\n",
            "Non-zero entries: 10977462\n"
          ]
        }
      ]
    },
    {
      "cell_type": "markdown",
      "source": [
        "##Train-Test Split (Sparse-Friendly)"
      ],
      "metadata": {
        "id": "Y61B_ZHbT3jV"
      }
    },
    {
      "cell_type": "code",
      "source": [
        "from sklearn.model_selection import train_test_split\n",
        "\n",
        "# Split playlists (not individual interactions)\n",
        "playlist_indices = np.arange(n_playlists)\n",
        "train_pl, test_pl = train_test_split(playlist_indices, test_size=0.2)\n",
        "\n",
        "# Create train/test matrices\n",
        "train_matrix = interaction_csr[train_pl]\n",
        "test_matrix = interaction_csr[test_pl]"
      ],
      "metadata": {
        "id": "VAoDpPzxT6kh"
      },
      "execution_count": null,
      "outputs": []
    },
    {
      "cell_type": "markdown",
      "source": [
        "##Train ALS Model"
      ],
      "metadata": {
        "id": "tu155p2znfTj"
      }
    },
    {
      "cell_type": "code",
      "source": [
        "!pip install implicit\n",
        "import implicit\n",
        "\n",
        "# Transpose for item-user format (required by implicit)\n",
        "item_user_train = train_matrix.T.tocsr()\n",
        "\n",
        "# Train ALS\n",
        "model = implicit.als.AlternatingLeastSquares(\n",
        "    factors=64,\n",
        "    iterations=15,\n",
        "    regularization=0.05,\n",
        "    random_state=42\n",
        ")\n",
        "model.fit(item_user_train)"
      ],
      "metadata": {
        "id": "YwDZtPGKnhN2",
        "colab": {
          "base_uri": "https://localhost:8080/",
          "height": 277,
          "referenced_widgets": [
            "81e61b9483a04fa591d0df9877b10a4b",
            "787149cc4d83409c9fac4419ab28e4fc",
            "ea5aeacb6c4b4e0d8b8bd41195dff209",
            "d8d73dfc12924c70a4bc04cf4b717723",
            "af7f4393a41f4a498942c65768eaf4b6",
            "802712e3c30a4430bf18375e36b06248",
            "3e826c3e4eef4560a998629fde92efc2",
            "bd4eec5f2d8640969fc91b225f9135b6",
            "c4bfaa16683c4d54b46a6d3aa32399a3",
            "8cc9cfe0f3b34efbafd96962c6f888e6",
            "3baddcf0d31b4b2688f1d9cfe3369fd8"
          ]
        },
        "outputId": "9daaa00e-d360-42dd-ccc0-55b303022977"
      },
      "execution_count": null,
      "outputs": [
        {
          "output_type": "stream",
          "name": "stdout",
          "text": [
            "Collecting implicit\n",
            "  Downloading implicit-0.7.2-cp311-cp311-manylinux2014_x86_64.whl.metadata (6.1 kB)\n",
            "Requirement already satisfied: numpy>=1.17.0 in /usr/local/lib/python3.11/dist-packages (from implicit) (2.0.2)\n",
            "Requirement already satisfied: scipy>=0.16 in /usr/local/lib/python3.11/dist-packages (from implicit) (1.14.1)\n",
            "Requirement already satisfied: tqdm>=4.27 in /usr/local/lib/python3.11/dist-packages (from implicit) (4.67.1)\n",
            "Requirement already satisfied: threadpoolctl in /usr/local/lib/python3.11/dist-packages (from implicit) (3.6.0)\n",
            "Downloading implicit-0.7.2-cp311-cp311-manylinux2014_x86_64.whl (8.9 MB)\n",
            "\u001b[2K   \u001b[90m━━━━━━━━━━━━━━━━━━━━━━━━━━━━━━━━━━━━━━━━\u001b[0m \u001b[32m8.9/8.9 MB\u001b[0m \u001b[31m61.3 MB/s\u001b[0m eta \u001b[36m0:00:00\u001b[0m\n",
            "\u001b[?25hInstalling collected packages: implicit\n",
            "Successfully installed implicit-0.7.2\n"
          ]
        },
        {
          "output_type": "stream",
          "name": "stderr",
          "text": [
            "/usr/local/lib/python3.11/dist-packages/implicit/cpu/als.py:95: RuntimeWarning: OpenBLAS is configured to use 64 threads. It is highly recommended to disable its internal threadpool by setting the environment variable 'OPENBLAS_NUM_THREADS=1' or by calling 'threadpoolctl.threadpool_limits(1, \"blas\")'. Having OpenBLAS use a threadpool can lead to severe performance issues here.\n",
            "  check_blas_config()\n"
          ]
        },
        {
          "output_type": "display_data",
          "data": {
            "text/plain": [
              "  0%|          | 0/15 [00:00<?, ?it/s]"
            ],
            "application/vnd.jupyter.widget-view+json": {
              "version_major": 2,
              "version_minor": 0,
              "model_id": "81e61b9483a04fa591d0df9877b10a4b"
            }
          },
          "metadata": {}
        }
      ]
    },
    {
      "cell_type": "markdown",
      "source": [
        "##Evaluation Metrics\n"
      ],
      "metadata": {
        "id": "K4luUC1JnlEW"
      }
    },
    {
      "cell_type": "code",
      "source": [
        "def evaluate_chunked_simple(model, train_matrix, test_matrix, k=5, chunk_size=1000):\n",
        "    precisions = []\n",
        "\n",
        "    # Create mapping from test matrix positions to train matrix indices\n",
        "    # This assumes test_matrix contains a subset of playlists from train_matrix\n",
        "    train_playlist_indices = set(range(train_matrix.shape[0]))\n",
        "\n",
        "    for i in range(0, test_matrix.shape[0], chunk_size):\n",
        "        chunk = test_matrix[i:i+chunk_size]\n",
        "\n",
        "        recommendations = []\n",
        "        for j in range(chunk.shape[0]):\n",
        "            # Get the corresponding train matrix index\n",
        "            test_pos = i + j\n",
        "            if test_pos < train_matrix.shape[0]:  # Only evaluate playlists that exist in training\n",
        "                try:\n",
        "                    rec = model.recommend(\n",
        "                        userid=test_pos,  # Use original training index\n",
        "                        user_items=chunk[j],  # Current test playlist data\n",
        "                        N=k,\n",
        "                        filter_already_liked_items=True\n",
        "                    )\n",
        "                    recommendations.append(rec)\n",
        "                except:\n",
        "                    recommendations.append(([], []))  # Empty recommendation if error\n",
        "            else:\n",
        "                recommendations.append(([], []))  # Skip playlists not in training\n",
        "\n",
        "        # Calculate precision\n",
        "        for j, (items, scores) in enumerate(recommendations):\n",
        "            if len(items) > 0:\n",
        "                true_positives = len(set(items) & set(chunk[j].indices))\n",
        "                precisions.append(true_positives / k)\n",
        "\n",
        "    return np.mean(precisions) #if precisions else 0.0\n",
        "\n",
        "# Usage\n",
        "print(f\"Precision@5: {evaluate_chunked_simple(model, train_matrix, test_matrix):.3f}\")"
      ],
      "metadata": {
        "id": "CfqwkhTxUKG7"
      },
      "execution_count": null,
      "outputs": []
    },
    {
      "cell_type": "markdown",
      "source": [
        "##Hyperparameter Tuning (Optional)"
      ],
      "metadata": {
        "id": "7_rnEUPuoAUs"
      }
    },
    {
      "cell_type": "code",
      "source": [
        "# Example: Grid search for best factors\n",
        "best_score = 0\n",
        "best_factors = 0\n",
        "\n",
        "for factors in [32, 64, 128]:\n",
        "    model = implicit.als.AlternatingLeastSquares(factors=factors)\n",
        "    model.fit(item_user_train)\n",
        "    score = np.mean([precision_at_k(model, idx) for idx in range(10)])  # Evaluate on subset\n",
        "    if score > best_score:\n",
        "        best_score = score\n",
        "        best_factors = factors\n",
        "\n",
        "print(f\"Best factors: {best_factors} (Precision@5: {best_score:.3f})\")"
      ],
      "metadata": {
        "id": "qNjjI-UhoCM2"
      },
      "execution_count": null,
      "outputs": []
    }
  ]
}